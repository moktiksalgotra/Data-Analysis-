{
 "cells": [
  {
   "cell_type": "markdown",
   "id": "13f755ef",
   "metadata": {},
   "source": [
    "# EDA and Data Cleaning "
   ]
  },
  {
   "cell_type": "code",
   "execution_count": 2,
   "id": "3cd6c93c",
   "metadata": {},
   "outputs": [],
   "source": [
    "import pandas as pd \n",
    "import numpy as np \n",
    "import seaborn as sns\n",
    "from matplotlib import pyplot as plt "
   ]
  },
  {
   "cell_type": "code",
   "execution_count": 3,
   "id": "482e7693",
   "metadata": {},
   "outputs": [
    {
     "data": {
      "text/html": [
       "<div>\n",
       "<style scoped>\n",
       "    .dataframe tbody tr th:only-of-type {\n",
       "        vertical-align: middle;\n",
       "    }\n",
       "\n",
       "    .dataframe tbody tr th {\n",
       "        vertical-align: top;\n",
       "    }\n",
       "\n",
       "    .dataframe thead th {\n",
       "        text-align: right;\n",
       "    }\n",
       "</style>\n",
       "<table border=\"1\" class=\"dataframe\">\n",
       "  <thead>\n",
       "    <tr style=\"text-align: right;\">\n",
       "      <th></th>\n",
       "      <th>BillNo</th>\n",
       "      <th>Itemname</th>\n",
       "      <th>Quantity</th>\n",
       "      <th>Date</th>\n",
       "      <th>Price</th>\n",
       "      <th>CustomerID</th>\n",
       "      <th>Country</th>\n",
       "    </tr>\n",
       "  </thead>\n",
       "  <tbody>\n",
       "    <tr>\n",
       "      <th>0</th>\n",
       "      <td>536365</td>\n",
       "      <td>WHITE HANGING HEART T-LIGHT HOLDER</td>\n",
       "      <td>6</td>\n",
       "      <td>2010-12-01 08:26:00</td>\n",
       "      <td>2.55</td>\n",
       "      <td>17850.0</td>\n",
       "      <td>United Kingdom</td>\n",
       "    </tr>\n",
       "    <tr>\n",
       "      <th>1</th>\n",
       "      <td>536365</td>\n",
       "      <td>WHITE METAL LANTERN</td>\n",
       "      <td>6</td>\n",
       "      <td>2010-12-01 08:26:00</td>\n",
       "      <td>3.39</td>\n",
       "      <td>17850.0</td>\n",
       "      <td>United Kingdom</td>\n",
       "    </tr>\n",
       "    <tr>\n",
       "      <th>2</th>\n",
       "      <td>536365</td>\n",
       "      <td>CREAM CUPID HEARTS COAT HANGER</td>\n",
       "      <td>8</td>\n",
       "      <td>2010-12-01 08:26:00</td>\n",
       "      <td>2.75</td>\n",
       "      <td>17850.0</td>\n",
       "      <td>United Kingdom</td>\n",
       "    </tr>\n",
       "    <tr>\n",
       "      <th>3</th>\n",
       "      <td>536365</td>\n",
       "      <td>KNITTED UNION FLAG HOT WATER BOTTLE</td>\n",
       "      <td>6</td>\n",
       "      <td>2010-12-01 08:26:00</td>\n",
       "      <td>3.39</td>\n",
       "      <td>17850.0</td>\n",
       "      <td>United Kingdom</td>\n",
       "    </tr>\n",
       "    <tr>\n",
       "      <th>4</th>\n",
       "      <td>536365</td>\n",
       "      <td>RED WOOLLY HOTTIE WHITE HEART.</td>\n",
       "      <td>6</td>\n",
       "      <td>2010-12-01 08:26:00</td>\n",
       "      <td>3.39</td>\n",
       "      <td>17850.0</td>\n",
       "      <td>United Kingdom</td>\n",
       "    </tr>\n",
       "  </tbody>\n",
       "</table>\n",
       "</div>"
      ],
      "text/plain": [
       "   BillNo                             Itemname  Quantity                Date  \\\n",
       "0  536365   WHITE HANGING HEART T-LIGHT HOLDER         6 2010-12-01 08:26:00   \n",
       "1  536365                  WHITE METAL LANTERN         6 2010-12-01 08:26:00   \n",
       "2  536365       CREAM CUPID HEARTS COAT HANGER         8 2010-12-01 08:26:00   \n",
       "3  536365  KNITTED UNION FLAG HOT WATER BOTTLE         6 2010-12-01 08:26:00   \n",
       "4  536365       RED WOOLLY HOTTIE WHITE HEART.         6 2010-12-01 08:26:00   \n",
       "\n",
       "   Price  CustomerID         Country  \n",
       "0   2.55     17850.0  United Kingdom  \n",
       "1   3.39     17850.0  United Kingdom  \n",
       "2   2.75     17850.0  United Kingdom  \n",
       "3   3.39     17850.0  United Kingdom  \n",
       "4   3.39     17850.0  United Kingdom  "
      ]
     },
     "execution_count": 3,
     "metadata": {},
     "output_type": "execute_result"
    }
   ],
   "source": [
    "df = pd.read_excel(\"1.xlsx\")\n",
    "df.head(5)"
   ]
  },
  {
   "cell_type": "code",
   "execution_count": 4,
   "id": "f2ce9bb1",
   "metadata": {},
   "outputs": [
    {
     "data": {
      "text/plain": [
       "(522064, 7)"
      ]
     },
     "execution_count": 4,
     "metadata": {},
     "output_type": "execute_result"
    }
   ],
   "source": [
    "df.shape"
   ]
  },
  {
   "cell_type": "code",
   "execution_count": 5,
   "id": "af23cdff",
   "metadata": {},
   "outputs": [
    {
     "data": {
      "text/plain": [
       "Index(['BillNo', 'Itemname', 'Quantity', 'Date', 'Price', 'CustomerID',\n",
       "       'Country'],\n",
       "      dtype='object')"
      ]
     },
     "execution_count": 5,
     "metadata": {},
     "output_type": "execute_result"
    }
   ],
   "source": [
    "df.columns"
   ]
  },
  {
   "cell_type": "code",
   "execution_count": 6,
   "id": "0b01311c",
   "metadata": {},
   "outputs": [
    {
     "name": "stdout",
     "output_type": "stream",
     "text": [
      "Current Data Types:\n",
      "BillNo                object\n",
      "Itemname              object\n",
      "Quantity               int64\n",
      "Date          datetime64[ns]\n",
      "Price                float64\n",
      "CustomerID           float64\n",
      "Country               object\n",
      "dtype: object\n"
     ]
    }
   ],
   "source": [
    "print(\"Current Data Types:\")\n",
    "print(df.dtypes)"
   ]
  },
  {
   "cell_type": "markdown",
   "id": "70bb7e1f",
   "metadata": {},
   "source": [
    "# 1. Handling NA Values"
   ]
  },
  {
   "cell_type": "code",
   "execution_count": 7,
   "id": "383c3361",
   "metadata": {},
   "outputs": [
    {
     "data": {
      "text/plain": [
       "BillNo             0\n",
       "Itemname        1455\n",
       "Quantity           0\n",
       "Date               0\n",
       "Price              0\n",
       "CustomerID    134041\n",
       "Country            0\n",
       "dtype: int64"
      ]
     },
     "execution_count": 7,
     "metadata": {},
     "output_type": "execute_result"
    }
   ],
   "source": [
    "df.isnull().sum()"
   ]
  },
  {
   "cell_type": "code",
   "execution_count": 8,
   "id": "c273a624",
   "metadata": {},
   "outputs": [
    {
     "data": {
      "text/plain": [
       "BillNo         0.000000\n",
       "Itemname       0.278701\n",
       "Quantity       0.000000\n",
       "Date           0.000000\n",
       "Price          0.000000\n",
       "CustomerID    25.675205\n",
       "Country        0.000000\n",
       "dtype: float64"
      ]
     },
     "execution_count": 8,
     "metadata": {},
     "output_type": "execute_result"
    }
   ],
   "source": [
    "(df.isnull().sum() / len(df)) * 100"
   ]
  },
  {
   "cell_type": "code",
   "execution_count": 9,
   "id": "837d47d8",
   "metadata": {},
   "outputs": [],
   "source": [
    "df['Itemname'] = df['Itemname'].fillna('Unknown')\n",
    "df['CustomerID'] = df['CustomerID'].fillna('Guest')"
   ]
  },
  {
   "cell_type": "code",
   "execution_count": 10,
   "id": "18d8b262",
   "metadata": {},
   "outputs": [
    {
     "data": {
      "text/plain": [
       "BillNo        0\n",
       "Itemname      0\n",
       "Quantity      0\n",
       "Date          0\n",
       "Price         0\n",
       "CustomerID    0\n",
       "Country       0\n",
       "dtype: int64"
      ]
     },
     "execution_count": 10,
     "metadata": {},
     "output_type": "execute_result"
    }
   ],
   "source": [
    "df.isnull().sum()"
   ]
  },
  {
   "cell_type": "markdown",
   "id": "6ea9d2b0",
   "metadata": {},
   "source": [
    "# 2. Handling Duplicates  "
   ]
  },
  {
   "cell_type": "code",
   "execution_count": 11,
   "id": "43b093bc",
   "metadata": {},
   "outputs": [
    {
     "data": {
      "text/plain": [
       "5286"
      ]
     },
     "execution_count": 11,
     "metadata": {},
     "output_type": "execute_result"
    }
   ],
   "source": [
    "df.duplicated().sum()"
   ]
  },
  {
   "cell_type": "code",
   "execution_count": 12,
   "id": "bc759cb2",
   "metadata": {},
   "outputs": [
    {
     "data": {
      "text/plain": [
       "0"
      ]
     },
     "execution_count": 12,
     "metadata": {},
     "output_type": "execute_result"
    }
   ],
   "source": [
    "df.drop_duplicates(inplace=True)\n",
    "df.duplicated().sum()"
   ]
  },
  {
   "cell_type": "code",
   "execution_count": 13,
   "id": "91daf550",
   "metadata": {},
   "outputs": [
    {
     "data": {
      "text/html": [
       "<div>\n",
       "<style scoped>\n",
       "    .dataframe tbody tr th:only-of-type {\n",
       "        vertical-align: middle;\n",
       "    }\n",
       "\n",
       "    .dataframe tbody tr th {\n",
       "        vertical-align: top;\n",
       "    }\n",
       "\n",
       "    .dataframe thead th {\n",
       "        text-align: right;\n",
       "    }\n",
       "</style>\n",
       "<table border=\"1\" class=\"dataframe\">\n",
       "  <thead>\n",
       "    <tr style=\"text-align: right;\">\n",
       "      <th></th>\n",
       "      <th>Quantity</th>\n",
       "      <th>Date</th>\n",
       "      <th>Price</th>\n",
       "    </tr>\n",
       "  </thead>\n",
       "  <tbody>\n",
       "    <tr>\n",
       "      <th>count</th>\n",
       "      <td>516778.00000</td>\n",
       "      <td>516778</td>\n",
       "      <td>516778.000000</td>\n",
       "    </tr>\n",
       "    <tr>\n",
       "      <th>mean</th>\n",
       "      <td>10.16247</td>\n",
       "      <td>2011-07-04 08:18:39.177790464</td>\n",
       "      <td>3.841504</td>\n",
       "    </tr>\n",
       "    <tr>\n",
       "      <th>min</th>\n",
       "      <td>-9600.00000</td>\n",
       "      <td>2010-12-01 08:26:00</td>\n",
       "      <td>-11062.060000</td>\n",
       "    </tr>\n",
       "    <tr>\n",
       "      <th>25%</th>\n",
       "      <td>1.00000</td>\n",
       "      <td>2011-03-28 09:59:00</td>\n",
       "      <td>1.250000</td>\n",
       "    </tr>\n",
       "    <tr>\n",
       "      <th>50%</th>\n",
       "      <td>3.00000</td>\n",
       "      <td>2011-07-19 14:29:00</td>\n",
       "      <td>2.080000</td>\n",
       "    </tr>\n",
       "    <tr>\n",
       "      <th>75%</th>\n",
       "      <td>10.00000</td>\n",
       "      <td>2011-10-19 12:11:00</td>\n",
       "      <td>4.130000</td>\n",
       "    </tr>\n",
       "    <tr>\n",
       "      <th>max</th>\n",
       "      <td>80995.00000</td>\n",
       "      <td>2011-12-09 12:50:00</td>\n",
       "      <td>13541.330000</td>\n",
       "    </tr>\n",
       "    <tr>\n",
       "      <th>std</th>\n",
       "      <td>161.91653</td>\n",
       "      <td>NaN</td>\n",
       "      <td>42.113493</td>\n",
       "    </tr>\n",
       "  </tbody>\n",
       "</table>\n",
       "</div>"
      ],
      "text/plain": [
       "           Quantity                           Date          Price\n",
       "count  516778.00000                         516778  516778.000000\n",
       "mean       10.16247  2011-07-04 08:18:39.177790464       3.841504\n",
       "min     -9600.00000            2010-12-01 08:26:00  -11062.060000\n",
       "25%         1.00000            2011-03-28 09:59:00       1.250000\n",
       "50%         3.00000            2011-07-19 14:29:00       2.080000\n",
       "75%        10.00000            2011-10-19 12:11:00       4.130000\n",
       "max     80995.00000            2011-12-09 12:50:00   13541.330000\n",
       "std       161.91653                            NaN      42.113493"
      ]
     },
     "execution_count": 13,
     "metadata": {},
     "output_type": "execute_result"
    }
   ],
   "source": [
    "df.describe()"
   ]
  },
  {
   "cell_type": "markdown",
   "id": "e6bca303",
   "metadata": {},
   "source": [
    "# 3. Handling Negative Values "
   ]
  },
  {
   "cell_type": "code",
   "execution_count": 14,
   "id": "c20fefe3",
   "metadata": {},
   "outputs": [
    {
     "data": {
      "text/plain": [
       "(2, 7)"
      ]
     },
     "execution_count": 14,
     "metadata": {},
     "output_type": "execute_result"
    }
   ],
   "source": [
    "df[df.Price<0].shape"
   ]
  },
  {
   "cell_type": "code",
   "execution_count": 15,
   "id": "4f33031b",
   "metadata": {},
   "outputs": [
    {
     "data": {
      "text/plain": [
       "array([-11062.06])"
      ]
     },
     "execution_count": 15,
     "metadata": {},
     "output_type": "execute_result"
    }
   ],
   "source": [
    "df[df.Price<0][\"Price\"].unique()"
   ]
  },
  {
   "cell_type": "code",
   "execution_count": 16,
   "id": "4b5c45ab",
   "metadata": {},
   "outputs": [
    {
     "data": {
      "text/plain": [
       "count    516778.000000\n",
       "mean          3.927127\n",
       "std          42.105595\n",
       "min           0.000000\n",
       "25%           1.250000\n",
       "50%           2.080000\n",
       "75%           4.130000\n",
       "max       13541.330000\n",
       "Name: Price, dtype: float64"
      ]
     },
     "execution_count": 16,
     "metadata": {},
     "output_type": "execute_result"
    }
   ],
   "source": [
    "df[\"Price\"] = abs(df[\"Price\"])\n",
    "df[\"Price\"].describe()"
   ]
  },
  {
   "cell_type": "code",
   "execution_count": 17,
   "id": "57feea62",
   "metadata": {},
   "outputs": [
    {
     "data": {
      "text/plain": [
       "(1336, 7)"
      ]
     },
     "execution_count": 17,
     "metadata": {},
     "output_type": "execute_result"
    }
   ],
   "source": [
    "df[df.Quantity<0].shape"
   ]
  },
  {
   "cell_type": "code",
   "execution_count": 18,
   "id": "3bd9a3c5",
   "metadata": {},
   "outputs": [
    {
     "data": {
      "text/plain": [
       "array([  -10,   -38,   -20,    -6,   -22,    -2,   -30,   -70,  -130,\n",
       "         -80,  -120,   -40,    -5,   -12,   -25,   -14,   -15,   -69,\n",
       "          -3,  -140,  -320,   -24,   -35,   -21,   -43,   -19,   -11,\n",
       "         -18,   -44,   -50,    -9,   -77,  -223,    -4,    -1,  -150,\n",
       "         -13,  -723,  -177,   -32,  -100,   -28,  -145,   -36,   -48,\n",
       "        -106,   -60,  -939,   -54,  -201,   -53,   -29, -2600,  -990,\n",
       "          -8,  -290,   -45,  -310,   -61,   -41,   -64,   -84, -1400,\n",
       "        -300,   -57,   -59,   -16,   -31,   -17,  -207,   -52,  -206,\n",
       "        -217, -1430,  -162,  -230,  -173,  -390,  -234,   -42,    -7,\n",
       "         -99,   -92,  -741,  -400,  -114,   -88,   -33,  -391,   -87,\n",
       "        -278,  -154, -3000,  -675,  -600,  -210,  -345,  -975, -1200,\n",
       "       -1121,   -27,  -541, -1277,  -197, -1100,   -63, -5368,  -259,\n",
       "         -82,  -178,  -110,   -47,  -323,  -450,  -232,   -83,  -153,\n",
       "        -524, -2472,  -105,   -34,   -46,   -75,  -690,   -39,   -66,\n",
       "        -180,  -194,   -26,   -23,   -62,   -37,   -91,  -139,  -158,\n",
       "       -1479,   -55,  -576,  -750,   -93, -1092,   -65,   -68,  -620,\n",
       "         -90,  -170, -1512,   -51,   -56,   -49,  -160,  -360, -2376,\n",
       "        -786,  -590,  -168,  -101,   -71,  -413,  -664,   -58,  -102,\n",
       "         -97, -1300,  -212,  -125,  -144,   -96,  -116,  -108,  -304,\n",
       "        -272, -1206,   -95,  -161,  -472,  -618,  -204, -9058, -9600,\n",
       "        -126,  -220,  -271, -1440,  -324,   -78,  -118, -1681,  -179,\n",
       "        -124,  -251, -3100,  -169, -2834,  -109,  -530,  -227,  -346,\n",
       "        -188,  -240, -1060,   -94,  -342,  -343,  -455,  -156,  -553,\n",
       "        -115,  -242,   -72,  -967,  -203, -3167,  -252,  -443,  -432,\n",
       "       -1897,  -434,   -86,  -682,  -484,  -635,  -117, -3667,  -384,\n",
       "        -138,  -752,  -250,  -147,  -121,   -67,  -131,  -209,  -231,\n",
       "        -129,  -458,  -275, -2880,  -800,  -430,  -380,   -74,  -192,\n",
       "        -365,  -104,  -270,   -73,  -306,  -200,  -111,  -840,  -184,\n",
       "        -103,  -335, -1000,  -164,  -657, -1671, -1158, -2618, -2003,\n",
       "        -674, -4830,  -905, -1128, -1560, -1284,   -81,  -256,  -864,\n",
       "        -288,  -186, -1510,  -550,  -327,  -152,  -313,  -398,  -280,\n",
       "        -504,  -696,  -408,  -149,  -224,  -428,  -267,  -175,   -98,\n",
       "        -151, -1131,  -135,  -900,  -155,  -355,  -337, -1050,  -338,\n",
       "        -235], dtype=int64)"
      ]
     },
     "execution_count": 18,
     "metadata": {},
     "output_type": "execute_result"
    }
   ],
   "source": [
    "df[df.Quantity<0][\"Quantity\"].unique()"
   ]
  },
  {
   "cell_type": "code",
   "execution_count": 19,
   "id": "1cb83453",
   "metadata": {},
   "outputs": [
    {
     "data": {
      "text/plain": [
       "count    516778.000000\n",
       "mean         10.963421\n",
       "std         161.864270\n",
       "min           1.000000\n",
       "25%           1.000000\n",
       "50%           3.000000\n",
       "75%          10.000000\n",
       "max       80995.000000\n",
       "Name: Quantity, dtype: float64"
      ]
     },
     "execution_count": 19,
     "metadata": {},
     "output_type": "execute_result"
    }
   ],
   "source": [
    "df[\"Quantity\"] = abs(df[\"Quantity\"])\n",
    "df[\"Quantity\"].describe()"
   ]
  },
  {
   "cell_type": "code",
   "execution_count": 20,
   "id": "64978b5d",
   "metadata": {},
   "outputs": [
    {
     "data": {
      "text/html": [
       "<div>\n",
       "<style scoped>\n",
       "    .dataframe tbody tr th:only-of-type {\n",
       "        vertical-align: middle;\n",
       "    }\n",
       "\n",
       "    .dataframe tbody tr th {\n",
       "        vertical-align: top;\n",
       "    }\n",
       "\n",
       "    .dataframe thead th {\n",
       "        text-align: right;\n",
       "    }\n",
       "</style>\n",
       "<table border=\"1\" class=\"dataframe\">\n",
       "  <thead>\n",
       "    <tr style=\"text-align: right;\">\n",
       "      <th></th>\n",
       "      <th>Quantity</th>\n",
       "      <th>Date</th>\n",
       "      <th>Price</th>\n",
       "    </tr>\n",
       "  </thead>\n",
       "  <tbody>\n",
       "    <tr>\n",
       "      <th>count</th>\n",
       "      <td>516778.000000</td>\n",
       "      <td>516778</td>\n",
       "      <td>516778.000000</td>\n",
       "    </tr>\n",
       "    <tr>\n",
       "      <th>mean</th>\n",
       "      <td>10.963421</td>\n",
       "      <td>2011-07-04 08:18:39.177790464</td>\n",
       "      <td>3.927127</td>\n",
       "    </tr>\n",
       "    <tr>\n",
       "      <th>min</th>\n",
       "      <td>1.000000</td>\n",
       "      <td>2010-12-01 08:26:00</td>\n",
       "      <td>0.000000</td>\n",
       "    </tr>\n",
       "    <tr>\n",
       "      <th>25%</th>\n",
       "      <td>1.000000</td>\n",
       "      <td>2011-03-28 09:59:00</td>\n",
       "      <td>1.250000</td>\n",
       "    </tr>\n",
       "    <tr>\n",
       "      <th>50%</th>\n",
       "      <td>3.000000</td>\n",
       "      <td>2011-07-19 14:29:00</td>\n",
       "      <td>2.080000</td>\n",
       "    </tr>\n",
       "    <tr>\n",
       "      <th>75%</th>\n",
       "      <td>10.000000</td>\n",
       "      <td>2011-10-19 12:11:00</td>\n",
       "      <td>4.130000</td>\n",
       "    </tr>\n",
       "    <tr>\n",
       "      <th>max</th>\n",
       "      <td>80995.000000</td>\n",
       "      <td>2011-12-09 12:50:00</td>\n",
       "      <td>13541.330000</td>\n",
       "    </tr>\n",
       "    <tr>\n",
       "      <th>std</th>\n",
       "      <td>161.864270</td>\n",
       "      <td>NaN</td>\n",
       "      <td>42.105595</td>\n",
       "    </tr>\n",
       "  </tbody>\n",
       "</table>\n",
       "</div>"
      ],
      "text/plain": [
       "            Quantity                           Date          Price\n",
       "count  516778.000000                         516778  516778.000000\n",
       "mean       10.963421  2011-07-04 08:18:39.177790464       3.927127\n",
       "min         1.000000            2010-12-01 08:26:00       0.000000\n",
       "25%         1.000000            2011-03-28 09:59:00       1.250000\n",
       "50%         3.000000            2011-07-19 14:29:00       2.080000\n",
       "75%        10.000000            2011-10-19 12:11:00       4.130000\n",
       "max     80995.000000            2011-12-09 12:50:00   13541.330000\n",
       "std       161.864270                            NaN      42.105595"
      ]
     },
     "execution_count": 20,
     "metadata": {},
     "output_type": "execute_result"
    }
   ],
   "source": [
    "df.describe()"
   ]
  },
  {
   "cell_type": "markdown",
   "id": "962a3fb3",
   "metadata": {},
   "source": [
    "# 3.1 Visualizing Quantity and Price"
   ]
  },
  {
   "cell_type": "code",
   "execution_count": 21,
   "id": "1278033f",
   "metadata": {},
   "outputs": [
    {
     "data": {
      "image/png": "[encoded data removed]",
      "text/plain": [
       "<Figure size 800x400 with 1 Axes>"
      ]
     },
     "metadata": {},
     "output_type": "display_data"
    },
    {
     "data": {
      "image/png": "[encoded data removed]",
      "text/plain": [
       "<Figure size 800x400 with 1 Axes>"
      ]
     },
     "metadata": {},
     "output_type": "display_data"
    }
   ],
   "source": [
    "#Box plot for Quantiy\n",
    "plt.figure(figsize=(8, 4))\n",
    "sns.boxplot(x=df['Quantity'])\n",
    "plt.title('Boxplot of Quantity')\n",
    "plt.show()\n",
    "\n",
    "#Box plot for Price\n",
    "plt.figure(figsize=(8, 4))\n",
    "sns.boxplot(x=df['Price'])\n",
    "plt.title('Boxplot of Price')\n",
    "plt.show()"
   ]
  },
  {
   "cell_type": "markdown",
   "id": "b4221a1f",
   "metadata": {},
   "source": [
    "# 4. Handling Outliers Using IQR and Log Transformation"
   ]
  },
  {
   "cell_type": "code",
   "execution_count": 22,
   "id": "ae671eb8",
   "metadata": {},
   "outputs": [
    {
     "name": "stdout",
     "output_type": "stream",
     "text": [
      "Quantity - Lower Bound: -12.5, Upper Bound: 23.5\n",
      "Number of outliers in Quantity: 55027\n",
      "    BillNo                       Itemname  Quantity                Date  \\\n",
      "9   536367  ASSORTED COLOUR BIRD ORNAMENT        32 2010-12-01 08:34:00   \n",
      "26  536370      ALARM CLOCK BAKELIKE PINK        24 2010-12-01 08:45:00   \n",
      "27  536370       ALARM CLOCK BAKELIKE RED        24 2010-12-01 08:45:00   \n",
      "30  536370                STARS GIFT TAPE        24 2010-12-01 08:45:00   \n",
      "31  536370     INFLATABLE POLITICAL GLOBE        48 2010-12-01 08:45:00   \n",
      "\n",
      "    Price CustomerID         Country  \n",
      "9    1.69    13047.0  United Kingdom  \n",
      "26   3.75    12583.0          France  \n",
      "27   3.75    12583.0          France  \n",
      "30   0.65    12583.0          France  \n",
      "31   0.85    12583.0          France  \n",
      "\n",
      "Price - Lower Bound: -3.0700000000000003, Upper Bound: 8.45\n",
      "Number of outliers in Price: 36771\n",
      "     BillNo                         Itemname  Quantity                Date  \\\n",
      "16   536367   BOX OF VINTAGE ALPHABET BLOCKS         2 2010-12-01 08:34:00   \n",
      "45   536370                          POSTAGE         3 2010-12-01 08:45:00   \n",
      "65   536374       VICTORIAN SEWING BOX LARGE        32 2010-12-01 09:09:00   \n",
      "150  536382  3 TIER CAKE TIN GREEN AND CREAM         2 2010-12-01 09:45:00   \n",
      "151  536382    3 TIER CAKE TIN RED AND CREAM         2 2010-12-01 09:45:00   \n",
      "\n",
      "     Price CustomerID         Country  \n",
      "16    9.95    13047.0  United Kingdom  \n",
      "45   18.00    12583.0          France  \n",
      "65   10.95    15100.0  United Kingdom  \n",
      "150  14.95    16098.0  United Kingdom  \n",
      "151  14.95    16098.0  United Kingdom  \n"
     ]
    }
   ],
   "source": [
    "def identify_outliers_iqr(df, column):\n",
    "    Q1 = df[column].quantile(0.25)  \n",
    "    Q3 = df[column].quantile(0.75)  \n",
    "    IQR = Q3 - Q1 \n",
    "\n",
    "    # Calculate bounds\n",
    "    lower_bound = Q1 - 1.5 * IQR\n",
    "    upper_bound = Q3 + 1.5 * IQR\n",
    "\n",
    "    # Identify outliers\n",
    "    outliers = df[(df[column] < lower_bound) | (df[column] > upper_bound)]\n",
    "\n",
    "    return outliers, lower_bound, upper_bound\n",
    "\n",
    "\n",
    "outliers_quantity, lower_quantity, upper_quantity = identify_outliers_iqr(df, 'Quantity')\n",
    "outliers_price, lower_price, upper_price = identify_outliers_iqr(df, 'Price')\n",
    "\n",
    "\n",
    "print(f\"Quantity - Lower Bound: {lower_quantity}, Upper Bound: {upper_quantity}\")\n",
    "print(f\"Number of outliers in Quantity: {len(outliers_quantity)}\")\n",
    "print(outliers_quantity.head())\n",
    "\n",
    "print(f\"\\nPrice - Lower Bound: {lower_price}, Upper Bound: {upper_price}\")\n",
    "print(f\"Number of outliers in Price: {len(outliers_price)}\")\n",
    "print(outliers_price.head())\n"
   ]
  },
  {
   "cell_type": "code",
   "execution_count": 23,
   "id": "740c0a76",
   "metadata": {},
   "outputs": [],
   "source": [
    "def cap_outliers(df, column, multiplier=2.0):\n",
    "    Q1 = df[column].quantile(0.25)\n",
    "    Q3 = df[column].quantile(0.75)\n",
    "    IQR = Q3 - Q1\n",
    "\n",
    "    lower_bound = Q1 - multiplier * IQR\n",
    "    upper_bound = Q3 + multiplier * IQR\n",
    "\n",
    "   \n",
    "    df[column] = np.where(df[column] < lower_bound, lower_bound, df[column])\n",
    "    df[column] = np.where(df[column] > upper_bound, upper_bound, df[column])\n",
    "    return df\n",
    "\n",
    "df = cap_outliers(df, 'Quantity', multiplier=2.0)\n",
    "df = cap_outliers(df, 'Price', multiplier=2.0)\n"
   ]
  },
  {
   "cell_type": "code",
   "execution_count": 24,
   "id": "33ada3bf",
   "metadata": {},
   "outputs": [],
   "source": [
    "# log transformation for capped data\n",
    "df['Quantity_Log'] = np.log1p(df['Quantity'])\n",
    "df['Price_Log'] = np.log1p(df['Price'])\n"
   ]
  },
  {
   "cell_type": "code",
   "execution_count": 25,
   "id": "fda74971",
   "metadata": {},
   "outputs": [
    {
     "name": "stdout",
     "output_type": "stream",
     "text": [
      "   Quantity  Quantity_Outlier  Price  Price_Outlier\n",
      "0       6.0                 0   2.55              0\n",
      "1       6.0                 0   3.39              0\n",
      "2       8.0                 0   2.75              0\n",
      "3       6.0                 0   3.39              0\n",
      "4       6.0                 0   3.39              0\n"
     ]
    }
   ],
   "source": [
    "# Flag remaining outliers for future analysis\n",
    "df['Quantity_Outlier'] = ((df['Quantity'] < lower_quantity) | (df['Quantity'] > upper_quantity)).astype(int)\n",
    "df['Price_Outlier'] = ((df['Price'] < lower_price) | (df['Price'] > upper_price)).astype(int)\n",
    "\n",
    "print(df[['Quantity', 'Quantity_Outlier', 'Price', 'Price_Outlier']].head())\n"
   ]
  },
  {
   "cell_type": "code",
   "execution_count": 26,
   "id": "cef7899f",
   "metadata": {},
   "outputs": [
    {
     "data": {
      "text/html": [
       "<div>\n",
       "<style scoped>\n",
       "    .dataframe tbody tr th:only-of-type {\n",
       "        vertical-align: middle;\n",
       "    }\n",
       "\n",
       "    .dataframe tbody tr th {\n",
       "        vertical-align: top;\n",
       "    }\n",
       "\n",
       "    .dataframe thead th {\n",
       "        text-align: right;\n",
       "    }\n",
       "</style>\n",
       "<table border=\"1\" class=\"dataframe\">\n",
       "  <thead>\n",
       "    <tr style=\"text-align: right;\">\n",
       "      <th></th>\n",
       "      <th>Quantity</th>\n",
       "      <th>Date</th>\n",
       "      <th>Price</th>\n",
       "      <th>Quantity_Log</th>\n",
       "      <th>Price_Log</th>\n",
       "      <th>Quantity_Outlier</th>\n",
       "      <th>Price_Outlier</th>\n",
       "    </tr>\n",
       "  </thead>\n",
       "  <tbody>\n",
       "    <tr>\n",
       "      <th>count</th>\n",
       "      <td>516778.000000</td>\n",
       "      <td>516778</td>\n",
       "      <td>516778.000000</td>\n",
       "      <td>516778.000000</td>\n",
       "      <td>516778.000000</td>\n",
       "      <td>516778.000000</td>\n",
       "      <td>516778.000000</td>\n",
       "    </tr>\n",
       "    <tr>\n",
       "      <th>mean</th>\n",
       "      <td>6.971270</td>\n",
       "      <td>2011-07-04 08:18:39.177790464</td>\n",
       "      <td>3.027514</td>\n",
       "      <td>1.665095</td>\n",
       "      <td>1.213724</td>\n",
       "      <td>0.106481</td>\n",
       "      <td>0.071154</td>\n",
       "    </tr>\n",
       "    <tr>\n",
       "      <th>min</th>\n",
       "      <td>1.000000</td>\n",
       "      <td>2010-12-01 08:26:00</td>\n",
       "      <td>0.000000</td>\n",
       "      <td>0.693147</td>\n",
       "      <td>0.000000</td>\n",
       "      <td>0.000000</td>\n",
       "      <td>0.000000</td>\n",
       "    </tr>\n",
       "    <tr>\n",
       "      <th>25%</th>\n",
       "      <td>1.000000</td>\n",
       "      <td>2011-03-28 09:59:00</td>\n",
       "      <td>1.250000</td>\n",
       "      <td>0.693147</td>\n",
       "      <td>0.810930</td>\n",
       "      <td>0.000000</td>\n",
       "      <td>0.000000</td>\n",
       "    </tr>\n",
       "    <tr>\n",
       "      <th>50%</th>\n",
       "      <td>3.000000</td>\n",
       "      <td>2011-07-19 14:29:00</td>\n",
       "      <td>2.080000</td>\n",
       "      <td>1.386294</td>\n",
       "      <td>1.124930</td>\n",
       "      <td>0.000000</td>\n",
       "      <td>0.000000</td>\n",
       "    </tr>\n",
       "    <tr>\n",
       "      <th>75%</th>\n",
       "      <td>10.000000</td>\n",
       "      <td>2011-10-19 12:11:00</td>\n",
       "      <td>4.130000</td>\n",
       "      <td>2.397895</td>\n",
       "      <td>1.635106</td>\n",
       "      <td>0.000000</td>\n",
       "      <td>0.000000</td>\n",
       "    </tr>\n",
       "    <tr>\n",
       "      <th>max</th>\n",
       "      <td>28.000000</td>\n",
       "      <td>2011-12-09 12:50:00</td>\n",
       "      <td>9.890000</td>\n",
       "      <td>3.367296</td>\n",
       "      <td>2.387845</td>\n",
       "      <td>1.000000</td>\n",
       "      <td>1.000000</td>\n",
       "    </tr>\n",
       "    <tr>\n",
       "      <th>std</th>\n",
       "      <td>7.835021</td>\n",
       "      <td>NaN</td>\n",
       "      <td>2.601710</td>\n",
       "      <td>0.880921</td>\n",
       "      <td>0.586103</td>\n",
       "      <td>0.308452</td>\n",
       "      <td>0.257083</td>\n",
       "    </tr>\n",
       "  </tbody>\n",
       "</table>\n",
       "</div>"
      ],
      "text/plain": [
       "            Quantity                           Date          Price  \\\n",
       "count  516778.000000                         516778  516778.000000   \n",
       "mean        6.971270  2011-07-04 08:18:39.177790464       3.027514   \n",
       "min         1.000000            2010-12-01 08:26:00       0.000000   \n",
       "25%         1.000000            2011-03-28 09:59:00       1.250000   \n",
       "50%         3.000000            2011-07-19 14:29:00       2.080000   \n",
       "75%        10.000000            2011-10-19 12:11:00       4.130000   \n",
       "max        28.000000            2011-12-09 12:50:00       9.890000   \n",
       "std         7.835021                            NaN       2.601710   \n",
       "\n",
       "        Quantity_Log      Price_Log  Quantity_Outlier  Price_Outlier  \n",
       "count  516778.000000  516778.000000     516778.000000  516778.000000  \n",
       "mean        1.665095       1.213724          0.106481       0.071154  \n",
       "min         0.693147       0.000000          0.000000       0.000000  \n",
       "25%         0.693147       0.810930          0.000000       0.000000  \n",
       "50%         1.386294       1.124930          0.000000       0.000000  \n",
       "75%         2.397895       1.635106          0.000000       0.000000  \n",
       "max         3.367296       2.387845          1.000000       1.000000  \n",
       "std         0.880921       0.586103          0.308452       0.257083  "
      ]
     },
     "execution_count": 26,
     "metadata": {},
     "output_type": "execute_result"
    }
   ],
   "source": [
    "df.describe()"
   ]
  },
  {
   "cell_type": "markdown",
   "id": "60d21691",
   "metadata": {},
   "source": [
    "# 4.1 Handling Zero Values"
   ]
  },
  {
   "cell_type": "code",
   "execution_count": 27,
   "id": "df971a44",
   "metadata": {},
   "outputs": [
    {
     "name": "stdout",
     "output_type": "stream",
     "text": [
      "Number of rows with Quantity = 0: 0\n",
      "Number of rows with Price = 0: 2506\n"
     ]
    }
   ],
   "source": [
    "zero_quantity = (df['Quantity'] == 0).sum()\n",
    "zero_price = (df['Price'] == 0).sum()\n",
    "\n",
    "print(f\"Number of rows with Quantity = 0: {zero_quantity}\")\n",
    "print(f\"Number of rows with Price = 0: {zero_price}\")"
   ]
  },
  {
   "cell_type": "code",
   "execution_count": 28,
   "id": "cfcebcc1",
   "metadata": {},
   "outputs": [
    {
     "data": {
      "text/html": [
       "<div>\n",
       "<style scoped>\n",
       "    .dataframe tbody tr th:only-of-type {\n",
       "        vertical-align: middle;\n",
       "    }\n",
       "\n",
       "    .dataframe tbody tr th {\n",
       "        vertical-align: top;\n",
       "    }\n",
       "\n",
       "    .dataframe thead th {\n",
       "        text-align: right;\n",
       "    }\n",
       "</style>\n",
       "<table border=\"1\" class=\"dataframe\">\n",
       "  <thead>\n",
       "    <tr style=\"text-align: right;\">\n",
       "      <th></th>\n",
       "      <th>BillNo</th>\n",
       "      <th>Itemname</th>\n",
       "      <th>Quantity</th>\n",
       "      <th>Date</th>\n",
       "      <th>Price</th>\n",
       "      <th>CustomerID</th>\n",
       "      <th>Country</th>\n",
       "      <th>Quantity_Log</th>\n",
       "      <th>Price_Log</th>\n",
       "      <th>Quantity_Outlier</th>\n",
       "      <th>Price_Outlier</th>\n",
       "    </tr>\n",
       "  </thead>\n",
       "  <tbody>\n",
       "    <tr>\n",
       "      <th>613</th>\n",
       "      <td>536414</td>\n",
       "      <td>Unknown</td>\n",
       "      <td>28.0</td>\n",
       "      <td>2010-12-01 11:52:00</td>\n",
       "      <td>0.0</td>\n",
       "      <td>Guest</td>\n",
       "      <td>United Kingdom</td>\n",
       "      <td>3.367296</td>\n",
       "      <td>0.0</td>\n",
       "      <td>1</td>\n",
       "      <td>0</td>\n",
       "    </tr>\n",
       "    <tr>\n",
       "      <th>1937</th>\n",
       "      <td>536545</td>\n",
       "      <td>Unknown</td>\n",
       "      <td>1.0</td>\n",
       "      <td>2010-12-01 14:32:00</td>\n",
       "      <td>0.0</td>\n",
       "      <td>Guest</td>\n",
       "      <td>United Kingdom</td>\n",
       "      <td>0.693147</td>\n",
       "      <td>0.0</td>\n",
       "      <td>0</td>\n",
       "      <td>0</td>\n",
       "    </tr>\n",
       "    <tr>\n",
       "      <th>1938</th>\n",
       "      <td>536546</td>\n",
       "      <td>Unknown</td>\n",
       "      <td>1.0</td>\n",
       "      <td>2010-12-01 14:33:00</td>\n",
       "      <td>0.0</td>\n",
       "      <td>Guest</td>\n",
       "      <td>United Kingdom</td>\n",
       "      <td>0.693147</td>\n",
       "      <td>0.0</td>\n",
       "      <td>0</td>\n",
       "      <td>0</td>\n",
       "    </tr>\n",
       "    <tr>\n",
       "      <th>1939</th>\n",
       "      <td>536547</td>\n",
       "      <td>Unknown</td>\n",
       "      <td>1.0</td>\n",
       "      <td>2010-12-01 14:33:00</td>\n",
       "      <td>0.0</td>\n",
       "      <td>Guest</td>\n",
       "      <td>United Kingdom</td>\n",
       "      <td>0.693147</td>\n",
       "      <td>0.0</td>\n",
       "      <td>0</td>\n",
       "      <td>0</td>\n",
       "    </tr>\n",
       "    <tr>\n",
       "      <th>1940</th>\n",
       "      <td>536549</td>\n",
       "      <td>Unknown</td>\n",
       "      <td>1.0</td>\n",
       "      <td>2010-12-01 14:34:00</td>\n",
       "      <td>0.0</td>\n",
       "      <td>Guest</td>\n",
       "      <td>United Kingdom</td>\n",
       "      <td>0.693147</td>\n",
       "      <td>0.0</td>\n",
       "      <td>0</td>\n",
       "      <td>0</td>\n",
       "    </tr>\n",
       "    <tr>\n",
       "      <th>...</th>\n",
       "      <td>...</td>\n",
       "      <td>...</td>\n",
       "      <td>...</td>\n",
       "      <td>...</td>\n",
       "      <td>...</td>\n",
       "      <td>...</td>\n",
       "      <td>...</td>\n",
       "      <td>...</td>\n",
       "      <td>...</td>\n",
       "      <td>...</td>\n",
       "      <td>...</td>\n",
       "    </tr>\n",
       "    <tr>\n",
       "      <th>517266</th>\n",
       "      <td>581234</td>\n",
       "      <td>Unknown</td>\n",
       "      <td>27.0</td>\n",
       "      <td>2011-12-08 10:33:00</td>\n",
       "      <td>0.0</td>\n",
       "      <td>Guest</td>\n",
       "      <td>United Kingdom</td>\n",
       "      <td>3.332205</td>\n",
       "      <td>0.0</td>\n",
       "      <td>1</td>\n",
       "      <td>0</td>\n",
       "    </tr>\n",
       "    <tr>\n",
       "      <th>518770</th>\n",
       "      <td>581406</td>\n",
       "      <td>POLYESTER FILLER PAD 45x45cm</td>\n",
       "      <td>28.0</td>\n",
       "      <td>2011-12-08 13:58:00</td>\n",
       "      <td>0.0</td>\n",
       "      <td>Guest</td>\n",
       "      <td>United Kingdom</td>\n",
       "      <td>3.367296</td>\n",
       "      <td>0.0</td>\n",
       "      <td>1</td>\n",
       "      <td>0</td>\n",
       "    </tr>\n",
       "    <tr>\n",
       "      <th>518771</th>\n",
       "      <td>581406</td>\n",
       "      <td>POLYESTER FILLER PAD 40x40cm</td>\n",
       "      <td>28.0</td>\n",
       "      <td>2011-12-08 13:58:00</td>\n",
       "      <td>0.0</td>\n",
       "      <td>Guest</td>\n",
       "      <td>United Kingdom</td>\n",
       "      <td>3.367296</td>\n",
       "      <td>0.0</td>\n",
       "      <td>1</td>\n",
       "      <td>0</td>\n",
       "    </tr>\n",
       "    <tr>\n",
       "      <th>518820</th>\n",
       "      <td>581408</td>\n",
       "      <td>Unknown</td>\n",
       "      <td>20.0</td>\n",
       "      <td>2011-12-08 14:06:00</td>\n",
       "      <td>0.0</td>\n",
       "      <td>Guest</td>\n",
       "      <td>United Kingdom</td>\n",
       "      <td>3.044522</td>\n",
       "      <td>0.0</td>\n",
       "      <td>0</td>\n",
       "      <td>0</td>\n",
       "    </tr>\n",
       "    <tr>\n",
       "      <th>519172</th>\n",
       "      <td>581422</td>\n",
       "      <td>smashed</td>\n",
       "      <td>28.0</td>\n",
       "      <td>2011-12-08 15:24:00</td>\n",
       "      <td>0.0</td>\n",
       "      <td>Guest</td>\n",
       "      <td>United Kingdom</td>\n",
       "      <td>3.367296</td>\n",
       "      <td>0.0</td>\n",
       "      <td>1</td>\n",
       "      <td>0</td>\n",
       "    </tr>\n",
       "  </tbody>\n",
       "</table>\n",
       "<p>2506 rows × 11 columns</p>\n",
       "</div>"
      ],
      "text/plain": [
       "        BillNo                      Itemname  Quantity                Date  \\\n",
       "613     536414                       Unknown      28.0 2010-12-01 11:52:00   \n",
       "1937    536545                       Unknown       1.0 2010-12-01 14:32:00   \n",
       "1938    536546                       Unknown       1.0 2010-12-01 14:33:00   \n",
       "1939    536547                       Unknown       1.0 2010-12-01 14:33:00   \n",
       "1940    536549                       Unknown       1.0 2010-12-01 14:34:00   \n",
       "...        ...                           ...       ...                 ...   \n",
       "517266  581234                       Unknown      27.0 2011-12-08 10:33:00   \n",
       "518770  581406  POLYESTER FILLER PAD 45x45cm      28.0 2011-12-08 13:58:00   \n",
       "518771  581406  POLYESTER FILLER PAD 40x40cm      28.0 2011-12-08 13:58:00   \n",
       "518820  581408                       Unknown      20.0 2011-12-08 14:06:00   \n",
       "519172  581422                       smashed      28.0 2011-12-08 15:24:00   \n",
       "\n",
       "        Price CustomerID         Country  Quantity_Log  Price_Log  \\\n",
       "613       0.0      Guest  United Kingdom      3.367296        0.0   \n",
       "1937      0.0      Guest  United Kingdom      0.693147        0.0   \n",
       "1938      0.0      Guest  United Kingdom      0.693147        0.0   \n",
       "1939      0.0      Guest  United Kingdom      0.693147        0.0   \n",
       "1940      0.0      Guest  United Kingdom      0.693147        0.0   \n",
       "...       ...        ...             ...           ...        ...   \n",
       "517266    0.0      Guest  United Kingdom      3.332205        0.0   \n",
       "518770    0.0      Guest  United Kingdom      3.367296        0.0   \n",
       "518771    0.0      Guest  United Kingdom      3.367296        0.0   \n",
       "518820    0.0      Guest  United Kingdom      3.044522        0.0   \n",
       "519172    0.0      Guest  United Kingdom      3.367296        0.0   \n",
       "\n",
       "        Quantity_Outlier  Price_Outlier  \n",
       "613                    1              0  \n",
       "1937                   0              0  \n",
       "1938                   0              0  \n",
       "1939                   0              0  \n",
       "1940                   0              0  \n",
       "...                  ...            ...  \n",
       "517266                 1              0  \n",
       "518770                 1              0  \n",
       "518771                 1              0  \n",
       "518820                 0              0  \n",
       "519172                 1              0  \n",
       "\n",
       "[2506 rows x 11 columns]"
      ]
     },
     "execution_count": 28,
     "metadata": {},
     "output_type": "execute_result"
    }
   ],
   "source": [
    "zero_price_rows = df[(df['Price'] == 0)]\n",
    "zero_price_rows\n"
   ]
  },
  {
   "cell_type": "code",
   "execution_count": 29,
   "id": "59d7e958",
   "metadata": {},
   "outputs": [
    {
     "name": "stdout",
     "output_type": "stream",
     "text": [
      "Number of Unknown records with Price = 0: 1455\n"
     ]
    }
   ],
   "source": [
    "unknown_price_zero_records = df[(df['Itemname'] == 'Unknown') & (df['Price'] == 0.0)]\n",
    "num_unknown_price_zero_records = unknown_price_zero_records.shape[0]\n",
    "print(f\"Number of Unknown records with Price = 0: {num_unknown_price_zero_records}\")\n"
   ]
  },
  {
   "cell_type": "code",
   "execution_count": 30,
   "id": "f92d429b",
   "metadata": {
    "scrolled": true
   },
   "outputs": [
    {
     "name": "stdout",
     "output_type": "stream",
     "text": [
      "Number of unique Itemnames with Price = 0: 373\n"
     ]
    }
   ],
   "source": [
    "unique_itemnames_price_zero = df[df['Price'] == 0]['Itemname'].nunique()\n",
    "\n",
    "print(f\"Number of unique Itemnames with Price = 0: {unique_itemnames_price_zero}\")\n"
   ]
  },
  {
   "cell_type": "markdown",
   "id": "624970fc",
   "metadata": {},
   "source": [
    "# 4.2 Removing where Price = 0 and Itemname = Unknown"
   ]
  },
  {
   "cell_type": "code",
   "execution_count": 31,
   "id": "2e6d37fb",
   "metadata": {},
   "outputs": [],
   "source": [
    "df = df[~((df['Itemname'] == 'Unknown') & (df['Price'] == 0))]"
   ]
  },
  {
   "cell_type": "code",
   "execution_count": 32,
   "id": "a54d18f0",
   "metadata": {},
   "outputs": [
    {
     "ename": "NameError",
     "evalue": "name 'df_cleaned' is not defined",
     "output_type": "error",
     "traceback": [
      "\u001b[1;31m---------------------------------------------------------------------------\u001b[0m",
      "\u001b[1;31mNameError\u001b[0m                                 Traceback (most recent call last)",
      "Cell \u001b[1;32mIn[32], line 1\u001b[0m\n\u001b[1;32m----> 1\u001b[0m unknown_price_zero_records \u001b[38;5;241m=\u001b[39m df_cleaned[(df_cleaned[\u001b[38;5;124m'\u001b[39m\u001b[38;5;124mItemname\u001b[39m\u001b[38;5;124m'\u001b[39m] \u001b[38;5;241m==\u001b[39m \u001b[38;5;124m'\u001b[39m\u001b[38;5;124mUnknown\u001b[39m\u001b[38;5;124m'\u001b[39m) \u001b[38;5;241m&\u001b[39m (df_cleaned[\u001b[38;5;124m'\u001b[39m\u001b[38;5;124mPrice\u001b[39m\u001b[38;5;124m'\u001b[39m] \u001b[38;5;241m==\u001b[39m \u001b[38;5;241m0.0\u001b[39m)]\n\u001b[0;32m      3\u001b[0m num_unknown_price_zero_records \u001b[38;5;241m=\u001b[39m unknown_price_zero_records\u001b[38;5;241m.\u001b[39mshape[\u001b[38;5;241m0\u001b[39m]\n\u001b[0;32m      4\u001b[0m \u001b[38;5;28mprint\u001b[39m(\u001b[38;5;124mf\u001b[39m\u001b[38;5;124m\"\u001b[39m\u001b[38;5;124mNumber of Unknown records with Price = 0: \u001b[39m\u001b[38;5;132;01m{\u001b[39;00mnum_unknown_price_zero_records\u001b[38;5;132;01m}\u001b[39;00m\u001b[38;5;124m\"\u001b[39m)\n",
      "\u001b[1;31mNameError\u001b[0m: name 'df_cleaned' is not defined"
     ]
    }
   ],
   "source": [
    "unknown_price_zero_records = df_cleaned[(df_cleaned['Itemname'] == 'Unknown') & (df_cleaned['Price'] == 0.0)]\n",
    "\n",
    "num_unknown_price_zero_records = unknown_price_zero_records.shape[0]\n",
    "print(f\"Number of Unknown records with Price = 0: {num_unknown_price_zero_records}\")\n"
   ]
  },
  {
   "cell_type": "markdown",
   "id": "f20f779d",
   "metadata": {},
   "source": [
    "# 4.3 Imputing the value where Itemname = Unique and Price = 0"
   ]
  },
  {
   "cell_type": "code",
   "execution_count": 33,
   "id": "cdcc71c2",
   "metadata": {},
   "outputs": [],
   "source": [
    "median_price = df[df['Price'] > 0]['Price'].median()\n",
    "df.loc[df['Price'] == 0, 'Price'] = median_price"
   ]
  },
  {
   "cell_type": "code",
   "execution_count": 34,
   "id": "b1b63d07",
   "metadata": {},
   "outputs": [
    {
     "name": "stdout",
     "output_type": "stream",
     "text": [
      "Number of unique Itemnames with Price = 0: 0\n"
     ]
    }
   ],
   "source": [
    "unique_itemnames_price_zero = df[df['Price'] == 0]['Itemname'].nunique()\n",
    "\n",
    "print(f\"Number of unique Itemnames with Price = 0: {unique_itemnames_price_zero}\")\n"
   ]
  },
  {
   "cell_type": "code",
   "execution_count": 35,
   "id": "cf7b2e7e",
   "metadata": {},
   "outputs": [
    {
     "name": "stdout",
     "output_type": "stream",
     "text": [
      "Number of rows with Price = 0: 0\n"
     ]
    }
   ],
   "source": [
    "zero_price = (df['Price'] == 0).sum()\n",
    "\n",
    "print(f\"Number of rows with Price = 0: {zero_price}\")"
   ]
  },
  {
   "cell_type": "code",
   "execution_count": 36,
   "id": "ad41de86",
   "metadata": {},
   "outputs": [
    {
     "data": {
      "text/html": [
       "<div>\n",
       "<style scoped>\n",
       "    .dataframe tbody tr th:only-of-type {\n",
       "        vertical-align: middle;\n",
       "    }\n",
       "\n",
       "    .dataframe tbody tr th {\n",
       "        vertical-align: top;\n",
       "    }\n",
       "\n",
       "    .dataframe thead th {\n",
       "        text-align: right;\n",
       "    }\n",
       "</style>\n",
       "<table border=\"1\" class=\"dataframe\">\n",
       "  <thead>\n",
       "    <tr style=\"text-align: right;\">\n",
       "      <th></th>\n",
       "      <th>Quantity</th>\n",
       "      <th>Date</th>\n",
       "      <th>Price</th>\n",
       "      <th>Quantity_Log</th>\n",
       "      <th>Price_Log</th>\n",
       "      <th>Quantity_Outlier</th>\n",
       "      <th>Price_Outlier</th>\n",
       "    </tr>\n",
       "  </thead>\n",
       "  <tbody>\n",
       "    <tr>\n",
       "      <th>count</th>\n",
       "      <td>515323.000000</td>\n",
       "      <td>515323</td>\n",
       "      <td>515323.000000</td>\n",
       "      <td>515323.000000</td>\n",
       "      <td>515323.000000</td>\n",
       "      <td>515323.000000</td>\n",
       "      <td>515323.000000</td>\n",
       "    </tr>\n",
       "    <tr>\n",
       "      <th>mean</th>\n",
       "      <td>6.949911</td>\n",
       "      <td>2011-07-04 11:11:17.317022720</td>\n",
       "      <td>3.040305</td>\n",
       "      <td>1.663177</td>\n",
       "      <td>1.217151</td>\n",
       "      <td>0.105757</td>\n",
       "      <td>0.071355</td>\n",
       "    </tr>\n",
       "    <tr>\n",
       "      <th>min</th>\n",
       "      <td>1.000000</td>\n",
       "      <td>2010-12-01 08:26:00</td>\n",
       "      <td>0.001000</td>\n",
       "      <td>0.693147</td>\n",
       "      <td>0.000000</td>\n",
       "      <td>0.000000</td>\n",
       "      <td>0.000000</td>\n",
       "    </tr>\n",
       "    <tr>\n",
       "      <th>25%</th>\n",
       "      <td>1.000000</td>\n",
       "      <td>2011-03-28 10:14:00</td>\n",
       "      <td>1.250000</td>\n",
       "      <td>0.693147</td>\n",
       "      <td>0.810930</td>\n",
       "      <td>0.000000</td>\n",
       "      <td>0.000000</td>\n",
       "    </tr>\n",
       "    <tr>\n",
       "      <th>50%</th>\n",
       "      <td>3.000000</td>\n",
       "      <td>2011-07-19 15:55:00</td>\n",
       "      <td>2.080000</td>\n",
       "      <td>1.386294</td>\n",
       "      <td>1.124930</td>\n",
       "      <td>0.000000</td>\n",
       "      <td>0.000000</td>\n",
       "    </tr>\n",
       "    <tr>\n",
       "      <th>75%</th>\n",
       "      <td>10.000000</td>\n",
       "      <td>2011-10-19 12:35:00</td>\n",
       "      <td>4.130000</td>\n",
       "      <td>2.397895</td>\n",
       "      <td>1.635106</td>\n",
       "      <td>0.000000</td>\n",
       "      <td>0.000000</td>\n",
       "    </tr>\n",
       "    <tr>\n",
       "      <th>max</th>\n",
       "      <td>28.000000</td>\n",
       "      <td>2011-12-09 12:50:00</td>\n",
       "      <td>9.890000</td>\n",
       "      <td>3.367296</td>\n",
       "      <td>2.387845</td>\n",
       "      <td>1.000000</td>\n",
       "      <td>1.000000</td>\n",
       "    </tr>\n",
       "    <tr>\n",
       "      <th>std</th>\n",
       "      <td>7.813260</td>\n",
       "      <td>NaN</td>\n",
       "      <td>2.597133</td>\n",
       "      <td>0.879817</td>\n",
       "      <td>0.583366</td>\n",
       "      <td>0.307527</td>\n",
       "      <td>0.257418</td>\n",
       "    </tr>\n",
       "  </tbody>\n",
       "</table>\n",
       "</div>"
      ],
      "text/plain": [
       "            Quantity                           Date          Price  \\\n",
       "count  515323.000000                         515323  515323.000000   \n",
       "mean        6.949911  2011-07-04 11:11:17.317022720       3.040305   \n",
       "min         1.000000            2010-12-01 08:26:00       0.001000   \n",
       "25%         1.000000            2011-03-28 10:14:00       1.250000   \n",
       "50%         3.000000            2011-07-19 15:55:00       2.080000   \n",
       "75%        10.000000            2011-10-19 12:35:00       4.130000   \n",
       "max        28.000000            2011-12-09 12:50:00       9.890000   \n",
       "std         7.813260                            NaN       2.597133   \n",
       "\n",
       "        Quantity_Log      Price_Log  Quantity_Outlier  Price_Outlier  \n",
       "count  515323.000000  515323.000000     515323.000000  515323.000000  \n",
       "mean        1.663177       1.217151          0.105757       0.071355  \n",
       "min         0.693147       0.000000          0.000000       0.000000  \n",
       "25%         0.693147       0.810930          0.000000       0.000000  \n",
       "50%         1.386294       1.124930          0.000000       0.000000  \n",
       "75%         2.397895       1.635106          0.000000       0.000000  \n",
       "max         3.367296       2.387845          1.000000       1.000000  \n",
       "std         0.879817       0.583366          0.307527       0.257418  "
      ]
     },
     "execution_count": 36,
     "metadata": {},
     "output_type": "execute_result"
    }
   ],
   "source": [
    "df.describe()"
   ]
  },
  {
   "cell_type": "markdown",
   "id": "d5311b17",
   "metadata": {},
   "source": [
    "# 4.5 Visualization"
   ]
  },
  {
   "cell_type": "code",
   "execution_count": 37,
   "id": "0e1ef430",
   "metadata": {},
   "outputs": [
    {
     "data": {
      "image/png": "[encoded data removed]",
      "text/plain": [
       "<Figure size 800x400 with 1 Axes>"
      ]
     },
     "metadata": {},
     "output_type": "display_data"
    },
    {
     "data": {
      "image/png": "[encoded data removed]",
      "text/plain": [
       "<Figure size 800x400 with 1 Axes>"
      ]
     },
     "metadata": {},
     "output_type": "display_data"
    }
   ],
   "source": [
    "# Histogram for 'Quantity'\n",
    "plt.figure(figsize=(8, 4))\n",
    "sns.histplot(df['Quantity'], kde=True, bins=30)\n",
    "plt.title('Quantity Distribution After Cleaning')\n",
    "plt.show()\n",
    "\n",
    "# Histogram for 'Price'\n",
    "plt.figure(figsize=(8, 4))\n",
    "sns.histplot(df['Price'], kde=True, bins=30)\n",
    "plt.title('Price Distribution After Cleaning')\n",
    "plt.show()\n"
   ]
  },
  {
   "cell_type": "code",
   "execution_count": 38,
   "id": "d492e7c4",
   "metadata": {},
   "outputs": [
    {
     "data": {
      "image/png": "[encoded data removed]",
      "text/plain": [
       "<Figure size 800x400 with 1 Axes>"
      ]
     },
     "metadata": {},
     "output_type": "display_data"
    },
    {
     "data": {
      "image/png": "[encoded data removed]",
      "text/plain": [
       "<Figure size 800x400 with 1 Axes>"
      ]
     },
     "metadata": {},
     "output_type": "display_data"
    }
   ],
   "source": [
    "# Boxplot for 'Price'\n",
    "plt.figure(figsize=(8, 4))\n",
    "sns.boxplot(x=df['Price'])\n",
    "plt.title('Boxplot of Price')\n",
    "plt.show()\n",
    "\n",
    "# Boxplot for 'Quantity'\n",
    "plt.figure(figsize=(8, 4))\n",
    "sns.boxplot(x=df['Quantity'])\n",
    "plt.title('Boxplot of Quantity')\n",
    "plt.show()"
   ]
  },
  {
   "cell_type": "markdown",
   "id": "10c213f2",
   "metadata": {},
   "source": [
    "# 5. Feature Engineering "
   ]
  },
  {
   "cell_type": "markdown",
   "id": "6381356d",
   "metadata": {},
   "source": [
    "#  5.1 Creating a new column "
   ]
  },
  {
   "cell_type": "code",
   "execution_count": 39,
   "id": "d9009e20",
   "metadata": {},
   "outputs": [
    {
     "name": "stdout",
     "output_type": "stream",
     "text": [
      "\n",
      "Data with TotalPrice:\n",
      "   Quantity  Price  TotalPrice\n",
      "0       6.0   2.55       15.30\n",
      "1       6.0   3.39       20.34\n",
      "2       8.0   2.75       22.00\n",
      "3       6.0   3.39       20.34\n",
      "4       6.0   3.39       20.34\n"
     ]
    }
   ],
   "source": [
    "# Creating a new column 'TotalPrice' as Quantity * Price\n",
    "df['TotalPrice'] = df['Quantity'] * df['Price']\n",
    "\n",
    "print(\"\\nData with TotalPrice:\")\n",
    "print(df[['Quantity', 'Price', 'TotalPrice']].head())"
   ]
  },
  {
   "cell_type": "markdown",
   "id": "fd0b0edf",
   "metadata": {},
   "source": [
    "# 5.2 Month or Weekday"
   ]
  },
  {
   "cell_type": "code",
   "execution_count": 40,
   "id": "e5e65f59",
   "metadata": {},
   "outputs": [
    {
     "name": "stdout",
     "output_type": "stream",
     "text": [
      "\n",
      "Data with Month and Weekday:\n",
      "                 Date  Month    Weekday\n",
      "0 2010-12-01 08:26:00     12  Wednesday\n",
      "1 2010-12-01 08:26:00     12  Wednesday\n",
      "2 2010-12-01 08:26:00     12  Wednesday\n",
      "3 2010-12-01 08:26:00     12  Wednesday\n",
      "4 2010-12-01 08:26:00     12  Wednesday\n"
     ]
    }
   ],
   "source": [
    "df['Date'] = pd.to_datetime(df['Date'], errors='coerce')\n",
    "\n",
    "# Extracting the Month from the 'Date' column\n",
    "df['Month'] = df['Date'].dt.month\n",
    "\n",
    "# Extracting the Weekday from the 'Date' column\n",
    "df['Weekday'] = df['Date'].dt.day_name()\n",
    "\n",
    "print(\"\\nData with Month and Weekday:\")\n",
    "print(df[['Date', 'Month', 'Weekday']].head())"
   ]
  },
  {
   "cell_type": "code",
   "execution_count": 41,
   "id": "c0a39e82",
   "metadata": {},
   "outputs": [
    {
     "data": {
      "text/html": [
       "<div>\n",
       "<style scoped>\n",
       "    .dataframe tbody tr th:only-of-type {\n",
       "        vertical-align: middle;\n",
       "    }\n",
       "\n",
       "    .dataframe tbody tr th {\n",
       "        vertical-align: top;\n",
       "    }\n",
       "\n",
       "    .dataframe thead th {\n",
       "        text-align: right;\n",
       "    }\n",
       "</style>\n",
       "<table border=\"1\" class=\"dataframe\">\n",
       "  <thead>\n",
       "    <tr style=\"text-align: right;\">\n",
       "      <th></th>\n",
       "      <th>BillNo</th>\n",
       "      <th>Itemname</th>\n",
       "      <th>Quantity</th>\n",
       "      <th>Date</th>\n",
       "      <th>Price</th>\n",
       "      <th>CustomerID</th>\n",
       "      <th>Country</th>\n",
       "      <th>Quantity_Log</th>\n",
       "      <th>Price_Log</th>\n",
       "      <th>Quantity_Outlier</th>\n",
       "      <th>Price_Outlier</th>\n",
       "      <th>TotalPrice</th>\n",
       "      <th>Month</th>\n",
       "      <th>Weekday</th>\n",
       "    </tr>\n",
       "  </thead>\n",
       "  <tbody>\n",
       "    <tr>\n",
       "      <th>0</th>\n",
       "      <td>536365</td>\n",
       "      <td>WHITE HANGING HEART T-LIGHT HOLDER</td>\n",
       "      <td>6.0</td>\n",
       "      <td>2010-12-01 08:26:00</td>\n",
       "      <td>2.55</td>\n",
       "      <td>17850.0</td>\n",
       "      <td>United Kingdom</td>\n",
       "      <td>1.945910</td>\n",
       "      <td>1.266948</td>\n",
       "      <td>0</td>\n",
       "      <td>0</td>\n",
       "      <td>15.30</td>\n",
       "      <td>12</td>\n",
       "      <td>Wednesday</td>\n",
       "    </tr>\n",
       "    <tr>\n",
       "      <th>1</th>\n",
       "      <td>536365</td>\n",
       "      <td>WHITE METAL LANTERN</td>\n",
       "      <td>6.0</td>\n",
       "      <td>2010-12-01 08:26:00</td>\n",
       "      <td>3.39</td>\n",
       "      <td>17850.0</td>\n",
       "      <td>United Kingdom</td>\n",
       "      <td>1.945910</td>\n",
       "      <td>1.479329</td>\n",
       "      <td>0</td>\n",
       "      <td>0</td>\n",
       "      <td>20.34</td>\n",
       "      <td>12</td>\n",
       "      <td>Wednesday</td>\n",
       "    </tr>\n",
       "    <tr>\n",
       "      <th>2</th>\n",
       "      <td>536365</td>\n",
       "      <td>CREAM CUPID HEARTS COAT HANGER</td>\n",
       "      <td>8.0</td>\n",
       "      <td>2010-12-01 08:26:00</td>\n",
       "      <td>2.75</td>\n",
       "      <td>17850.0</td>\n",
       "      <td>United Kingdom</td>\n",
       "      <td>2.197225</td>\n",
       "      <td>1.321756</td>\n",
       "      <td>0</td>\n",
       "      <td>0</td>\n",
       "      <td>22.00</td>\n",
       "      <td>12</td>\n",
       "      <td>Wednesday</td>\n",
       "    </tr>\n",
       "    <tr>\n",
       "      <th>3</th>\n",
       "      <td>536365</td>\n",
       "      <td>KNITTED UNION FLAG HOT WATER BOTTLE</td>\n",
       "      <td>6.0</td>\n",
       "      <td>2010-12-01 08:26:00</td>\n",
       "      <td>3.39</td>\n",
       "      <td>17850.0</td>\n",
       "      <td>United Kingdom</td>\n",
       "      <td>1.945910</td>\n",
       "      <td>1.479329</td>\n",
       "      <td>0</td>\n",
       "      <td>0</td>\n",
       "      <td>20.34</td>\n",
       "      <td>12</td>\n",
       "      <td>Wednesday</td>\n",
       "    </tr>\n",
       "    <tr>\n",
       "      <th>4</th>\n",
       "      <td>536365</td>\n",
       "      <td>RED WOOLLY HOTTIE WHITE HEART.</td>\n",
       "      <td>6.0</td>\n",
       "      <td>2010-12-01 08:26:00</td>\n",
       "      <td>3.39</td>\n",
       "      <td>17850.0</td>\n",
       "      <td>United Kingdom</td>\n",
       "      <td>1.945910</td>\n",
       "      <td>1.479329</td>\n",
       "      <td>0</td>\n",
       "      <td>0</td>\n",
       "      <td>20.34</td>\n",
       "      <td>12</td>\n",
       "      <td>Wednesday</td>\n",
       "    </tr>\n",
       "  </tbody>\n",
       "</table>\n",
       "</div>"
      ],
      "text/plain": [
       "   BillNo                             Itemname  Quantity                Date  \\\n",
       "0  536365   WHITE HANGING HEART T-LIGHT HOLDER       6.0 2010-12-01 08:26:00   \n",
       "1  536365                  WHITE METAL LANTERN       6.0 2010-12-01 08:26:00   \n",
       "2  536365       CREAM CUPID HEARTS COAT HANGER       8.0 2010-12-01 08:26:00   \n",
       "3  536365  KNITTED UNION FLAG HOT WATER BOTTLE       6.0 2010-12-01 08:26:00   \n",
       "4  536365       RED WOOLLY HOTTIE WHITE HEART.       6.0 2010-12-01 08:26:00   \n",
       "\n",
       "   Price CustomerID         Country  Quantity_Log  Price_Log  \\\n",
       "0   2.55    17850.0  United Kingdom      1.945910   1.266948   \n",
       "1   3.39    17850.0  United Kingdom      1.945910   1.479329   \n",
       "2   2.75    17850.0  United Kingdom      2.197225   1.321756   \n",
       "3   3.39    17850.0  United Kingdom      1.945910   1.479329   \n",
       "4   3.39    17850.0  United Kingdom      1.945910   1.479329   \n",
       "\n",
       "   Quantity_Outlier  Price_Outlier  TotalPrice  Month    Weekday  \n",
       "0                 0              0       15.30     12  Wednesday  \n",
       "1                 0              0       20.34     12  Wednesday  \n",
       "2                 0              0       22.00     12  Wednesday  \n",
       "3                 0              0       20.34     12  Wednesday  \n",
       "4                 0              0       20.34     12  Wednesday  "
      ]
     },
     "execution_count": 41,
     "metadata": {},
     "output_type": "execute_result"
    }
   ],
   "source": [
    "df.head(5)"
   ]
  },
  {
   "cell_type": "markdown",
   "id": "06a996f0",
   "metadata": {},
   "source": [
    "# 6. Aggregating Data"
   ]
  },
  {
   "cell_type": "markdown",
   "id": "e240ad4d",
   "metadata": {},
   "source": [
    "# 6.1 Monthly Revenue"
   ]
  },
  {
   "cell_type": "code",
   "execution_count": 42,
   "id": "16bb3470",
   "metadata": {},
   "outputs": [
    {
     "name": "stdout",
     "output_type": "stream",
     "text": [
      "\n",
      "Monthly Revenue:\n",
      "Month\n",
      "1      435218.100\n",
      "2      369428.590\n",
      "3      487570.890\n",
      "4      387789.991\n",
      "5      540931.470\n",
      "6      481555.140\n",
      "7      483236.081\n",
      "8      498041.590\n",
      "9      715219.672\n",
      "10     790606.420\n",
      "11    1066287.640\n",
      "12     895179.550\n",
      "Name: TotalPrice, dtype: float64\n"
     ]
    }
   ],
   "source": [
    "monthly_revenue = df.groupby('Month')['TotalPrice'].sum()\n",
    "print(\"\\nMonthly Revenue:\")\n",
    "print(monthly_revenue)"
   ]
  },
  {
   "cell_type": "markdown",
   "id": "19ffb82b",
   "metadata": {},
   "source": [
    "# 6.2 Weekday Sales"
   ]
  },
  {
   "cell_type": "code",
   "execution_count": 43,
   "id": "4cbea54f",
   "metadata": {},
   "outputs": [
    {
     "name": "stdout",
     "output_type": "stream",
     "text": [
      "\n",
      "Sales by Weekday:\n",
      "Weekday\n",
      "Friday       1151137.751\n",
      "Monday       1193366.101\n",
      "Sunday        671299.591\n",
      "Thursday     1471141.180\n",
      "Tuesday      1377614.651\n",
      "Wednesday    1286505.860\n",
      "Name: TotalPrice, dtype: float64\n"
     ]
    }
   ],
   "source": [
    "weekday_sales = df.groupby('Weekday')['TotalPrice'].sum().sort_index()\n",
    "print(\"\\nSales by Weekday:\")\n",
    "print(weekday_sales)\n"
   ]
  },
  {
   "cell_type": "markdown",
   "id": "c6562946",
   "metadata": {},
   "source": [
    "# 6.3 Aggregating by CustomerID"
   ]
  },
  {
   "cell_type": "code",
   "execution_count": 44,
   "id": "f0e1d7b7",
   "metadata": {},
   "outputs": [
    {
     "name": "stdout",
     "output_type": "stream",
     "text": [
      "\n",
      "Customer Summary:\n",
      "  CustomerID  TotalRevenue  TotalTransactions  TotalQuantity\n",
      "0    12346.0         29.12                  1           28.0\n",
      "1    12347.0       3942.88                  7         2176.0\n",
      "2    12349.0       1385.83                  1          615.0\n",
      "3    12350.0        304.29                  1          197.0\n",
      "4    12352.0       1469.80                  8          536.0\n"
     ]
    }
   ],
   "source": [
    "customer_summary = df.groupby('CustomerID').agg(\n",
    "    TotalRevenue=('TotalPrice', 'sum'),\n",
    "    TotalTransactions=('BillNo', 'nunique'),\n",
    "    TotalQuantity=('Quantity', 'sum')\n",
    ").reset_index()\n",
    "\n",
    "print(\"\\nCustomer Summary:\")\n",
    "print(customer_summary.head())"
   ]
  },
  {
   "cell_type": "markdown",
   "id": "fabd4cf8",
   "metadata": {},
   "source": [
    "# 6.4  Aggregating by Itemname"
   ]
  },
  {
   "cell_type": "code",
   "execution_count": 45,
   "id": "ddfa3b9e",
   "metadata": {},
   "outputs": [
    {
     "name": "stdout",
     "output_type": "stream",
     "text": [
      "\n",
      "Product Summary:\n",
      "                     Itemname  TotalSales  TotalQuantitySold  AvgPrice\n",
      "0       *Boombox Ipod Classic        9.89                1.0  9.890000\n",
      "1     *USB Office Mirror Ball       16.94                2.0  8.470000\n",
      "2      10 COLOUR SPACEBOY PEN     4232.65             4844.0  1.059904\n",
      "3  12 COLOURED PARTY BALLOONS     1234.71             1882.0  0.705276\n",
      "4   12 DAISY PEGS IN WOOD BOX      513.42              296.0  1.930519\n"
     ]
    }
   ],
   "source": [
    "product_summary = df.groupby('Itemname').agg(\n",
    "    TotalSales=('TotalPrice', 'sum'),\n",
    "    TotalQuantitySold=('Quantity', 'sum'),\n",
    "    AvgPrice=('Price', 'mean')\n",
    ").reset_index()\n",
    "\n",
    "print(\"\\nProduct Summary:\")\n",
    "print(product_summary.head())"
   ]
  },
  {
   "cell_type": "markdown",
   "id": "9e00870c",
   "metadata": {},
   "source": [
    "# 6.5 Aggregating by Country"
   ]
  },
  {
   "cell_type": "code",
   "execution_count": 46,
   "id": "bc3a0679",
   "metadata": {},
   "outputs": [
    {
     "name": "stdout",
     "output_type": "stream",
     "text": [
      "\n",
      "Country Summary:\n",
      "     Country  TotalRevenue  UniqueCustomers  TotalTransactions\n",
      "0  Australia      50768.30                9                 57\n",
      "1    Austria       8143.23               11                 17\n",
      "2    Bahrain        523.88                3                  3\n",
      "3    Belgium      37028.51               25                 98\n",
      "4     Brazil       1126.64                1                  1\n"
     ]
    }
   ],
   "source": [
    "country_summary = df.groupby('Country').agg(\n",
    "    TotalRevenue=('TotalPrice', 'sum'),\n",
    "    UniqueCustomers=('CustomerID', 'nunique'),\n",
    "    TotalTransactions=('BillNo', 'nunique')\n",
    ").reset_index()\n",
    "\n",
    "print(\"\\nCountry Summary:\")\n",
    "print(country_summary.head())\n"
   ]
  },
  {
   "cell_type": "markdown",
   "id": "59b65786",
   "metadata": {},
   "source": [
    "# 6.6 Monthly Summary"
   ]
  },
  {
   "cell_type": "code",
   "execution_count": 47,
   "id": "75b30bc3",
   "metadata": {},
   "outputs": [
    {
     "name": "stdout",
     "output_type": "stream",
     "text": [
      "\n",
      "Monthly Sales Summary:\n",
      "    Month  TotalRevenue  TotalTransactions\n",
      "0       1    435218.100               1091\n",
      "1       2    369428.590               1086\n",
      "2       3    487570.890               1466\n",
      "3       4    387789.991               1261\n",
      "4       5    540931.470               1684\n",
      "5       6    481555.140               1555\n",
      "6       7    483236.081               1468\n",
      "7       8    498041.590               1348\n",
      "8       9    715219.672               1847\n",
      "9      10    790606.420               2120\n",
      "10     11   1066287.640               2890\n",
      "11     12    895179.550               2392\n"
     ]
    }
   ],
   "source": [
    "monthly_summary = df.groupby('Month').agg(\n",
    "    TotalRevenue=('TotalPrice', 'sum'),\n",
    "    TotalTransactions=('BillNo', 'nunique')\n",
    ").reset_index()\n",
    "\n",
    "print(\"\\nMonthly Sales Summary:\")\n",
    "print(monthly_summary)"
   ]
  },
  {
   "cell_type": "markdown",
   "id": "c612b508",
   "metadata": {},
   "source": [
    "# 6.7 Weekday Summary  "
   ]
  },
  {
   "cell_type": "code",
   "execution_count": 48,
   "id": "331bc2fd",
   "metadata": {},
   "outputs": [
    {
     "name": "stdout",
     "output_type": "stream",
     "text": [
      "\n",
      "Weekday Sales Summary:\n",
      "     Weekday  TotalRevenue  AvgTransactionValue\n",
      "0     Friday   1151137.751            14.777880\n",
      "1     Monday   1193366.101            13.183889\n",
      "2     Sunday    671299.591            10.876709\n",
      "3   Thursday   1471141.180            14.982749\n",
      "4    Tuesday   1377614.651            14.171241\n",
      "5  Wednesday   1286505.860            14.327941\n"
     ]
    }
   ],
   "source": [
    "weekday_summary = df.groupby('Weekday').agg(\n",
    "    TotalRevenue=('TotalPrice', 'sum'),\n",
    "    AvgTransactionValue=('TotalPrice', 'mean')\n",
    ").reset_index()\n",
    "\n",
    "print(\"\\nWeekday Sales Summary:\")\n",
    "print(weekday_summary)\n"
   ]
  },
  {
   "cell_type": "markdown",
   "id": "e932d6ce",
   "metadata": {},
   "source": [
    "# 6.8 Sorting Summary  "
   ]
  },
  {
   "cell_type": "code",
   "execution_count": 49,
   "id": "f4d2cffe",
   "metadata": {},
   "outputs": [
    {
     "name": "stdout",
     "output_type": "stream",
     "text": [
      "\n",
      "Top Customers by Revenue:\n",
      "     CustomerID  TotalRevenue  TotalTransactions  TotalQuantity\n",
      "4297      Guest    1249807.53               2045       374696.0\n",
      "1661    14646.0      92248.47                 74        49431.0\n",
      "539     13089.0      49845.71                 97        25619.0\n",
      "1264    14096.0      48801.30                 17        15703.0\n",
      "4160    18102.0      45630.83                 60        10894.0\n",
      "\n",
      "Top Products by Sales:\n",
      "                                Itemname  TotalSales  TotalQuantitySold  \\\n",
      "2884            REGENCY CAKESTAND 3 TIER   104759.23            10621.0   \n",
      "2445                       PARTY BUNTING    66887.54            12256.0   \n",
      "3882  WHITE HANGING HEART T-LIGHT HOLDER    60001.97            20779.0   \n",
      "1842             JUMBO BAG RED RETROSPOT    46893.52            21944.0   \n",
      "2414      PAPER CHAIN KIT 50'S CHRISTMAS    36525.23            11145.0   \n",
      "\n",
      "      AvgPrice  \n",
      "2884  9.877241  \n",
      "2445  5.679521  \n",
      "3882  3.225693  \n",
      "1842  2.491646  \n",
      "2414  3.370051  \n"
     ]
    }
   ],
   "source": [
    "# Sorting customer summary by TotalRevenue (descending)\n",
    "customer_summary = customer_summary.sort_values(by='TotalRevenue', ascending=False)\n",
    "\n",
    "# Sorting product summary by TotalSales (descending)\n",
    "product_summary = product_summary.sort_values(by='TotalSales', ascending=False)\n",
    "\n",
    "print(\"\\nTop Customers by Revenue:\")\n",
    "print(customer_summary.head())\n",
    "\n",
    "print(\"\\nTop Products by Sales:\")\n",
    "print(product_summary.head())\n"
   ]
  },
  {
   "cell_type": "markdown",
   "id": "319f47b1",
   "metadata": {},
   "source": [
    "# 7. Insights\n"
   ]
  },
  {
   "cell_type": "markdown",
   "id": "d2f401b6",
   "metadata": {},
   "source": [
    "# 7.1 Sales Trends"
   ]
  },
  {
   "cell_type": "code",
   "execution_count": 50,
   "id": "0a39bb30",
   "metadata": {},
   "outputs": [
    {
     "name": "stdout",
     "output_type": "stream",
     "text": [
      "\n",
      "Daily Sales Trends:\n",
      "                 Date  TotalRevenue  TotalTransactions\n",
      "0 2010-12-01 08:26:00        139.12                  1\n",
      "1 2010-12-01 08:28:00         22.20                  1\n",
      "2 2010-12-01 08:34:00        341.90                  2\n",
      "3 2010-12-01 08:35:00         17.85                  1\n",
      "4 2010-12-01 08:45:00        809.33                  1\n"
     ]
    },
    {
     "data": {
      "image/png": "[encoded data removed]",
      "text/plain": [
       "<Figure size 1200x600 with 1 Axes>"
      ]
     },
     "metadata": {},
     "output_type": "display_data"
    }
   ],
   "source": [
    "# Daily Sales Trends\n",
    "# Grouping by Date to calculate daily revenue\n",
    "daily_sales = df.groupby('Date').agg(\n",
    "    TotalRevenue=('TotalPrice', 'sum'),\n",
    "    TotalTransactions=('BillNo', 'nunique')\n",
    ").reset_index()\n",
    "\n",
    "print(\"\\nDaily Sales Trends:\")\n",
    "print(daily_sales.head())\n",
    "\n",
    "plt.figure(figsize=(12, 6))\n",
    "plt.plot(daily_sales['Date'], daily_sales['TotalRevenue'], label='Total Revenue', color='blue')\n",
    "plt.title('Daily Sales Trends', fontsize=16)\n",
    "plt.xlabel('Date', fontsize=12)\n",
    "plt.ylabel('Total Revenue', fontsize=12)\n",
    "plt.legend()\n",
    "plt.grid()\n",
    "plt.show()\n"
   ]
  },
  {
   "cell_type": "code",
   "execution_count": 51,
   "id": "e7bb37eb",
   "metadata": {},
   "outputs": [
    {
     "name": "stdout",
     "output_type": "stream",
     "text": [
      "\n",
      "Weekly Sales Trends:\n",
      "   Week  TotalRevenue  TotalTransactions\n",
      "0     1      99585.96                244\n",
      "1     2     107644.81                264\n",
      "2     3     105215.62                231\n",
      "3     4     104048.72                290\n",
      "4     5      93928.35                298\n"
     ]
    },
    {
     "data": {
      "image/png": "[encoded data removed]",
      "text/plain": [
       "<Figure size 1200x600 with 1 Axes>"
      ]
     },
     "metadata": {},
     "output_type": "display_data"
    }
   ],
   "source": [
    "# weekly Sales Trends\n",
    "\n",
    "df['Date'] = pd.to_datetime(df['Date'], errors='coerce')\n",
    "\n",
    "df['Week'] = df['Date'].dt.isocalendar().week\n",
    "\n",
    "weekly_sales = df.groupby('Week').agg(\n",
    "    TotalRevenue=('TotalPrice', 'sum'),\n",
    "    TotalTransactions=('BillNo', 'nunique')\n",
    ").reset_index()\n",
    "\n",
    "\n",
    "print(\"\\nWeekly Sales Trends:\")\n",
    "print(weekly_sales.head())\n",
    "\n",
    "\n",
    "plt.figure(figsize=(12, 6))\n",
    "plt.plot(weekly_sales['Week'], weekly_sales['TotalRevenue'], label='Total Revenue', color='green')\n",
    "plt.title('Weekly Sales Trends', fontsize=16)\n",
    "plt.xlabel('Week', fontsize=12)\n",
    "plt.ylabel('Total Revenue', fontsize=12)\n",
    "plt.legend()\n",
    "plt.grid()\n",
    "plt.show()"
   ]
  },
  {
   "cell_type": "code",
   "execution_count": 52,
   "id": "f829e9cf",
   "metadata": {},
   "outputs": [
    {
     "name": "stdout",
     "output_type": "stream",
     "text": [
      "\n",
      "Monthly Sales Trends:\n",
      "    Month  TotalRevenue  TotalTransactions\n",
      "0       1    435218.100               1091\n",
      "1       2    369428.590               1086\n",
      "2       3    487570.890               1466\n",
      "3       4    387789.991               1261\n",
      "4       5    540931.470               1684\n",
      "5       6    481555.140               1555\n",
      "6       7    483236.081               1468\n",
      "7       8    498041.590               1348\n",
      "8       9    715219.672               1847\n",
      "9      10    790606.420               2120\n",
      "10     11   1066287.640               2890\n",
      "11     12    895179.550               2392\n"
     ]
    },
    {
     "data": {
      "image/png": "[encoded data removed]",
      "text/plain": [
       "<Figure size 1200x600 with 1 Axes>"
      ]
     },
     "metadata": {},
     "output_type": "display_data"
    }
   ],
   "source": [
    "#Monthly Sales Trends\n",
    "# Creating a 'Month' column for monthly grouping\n",
    "df['Month'] = df['Date'].dt.month\n",
    "\n",
    "# Grouping by Month to calculate monthly revenue\n",
    "monthly_sales = df.groupby('Month').agg(\n",
    "    TotalRevenue=('TotalPrice', 'sum'),\n",
    "    TotalTransactions=('BillNo', 'nunique')\n",
    ").reset_index()\n",
    "\n",
    "\n",
    "print(\"\\nMonthly Sales Trends:\")\n",
    "print(monthly_sales)\n",
    "\n",
    "\n",
    "plt.figure(figsize=(12, 6))\n",
    "plt.bar(monthly_sales['Month'], monthly_sales['TotalRevenue'], color='orange', alpha=0.7)\n",
    "plt.title('Monthly Sales Trends', fontsize=16)\n",
    "plt.xlabel('Month', fontsize=12)\n",
    "plt.ylabel('Total Revenue', fontsize=12)\n",
    "plt.xticks(range(1, 13)) \n",
    "plt.grid(axis='y')\n",
    "plt.show()\n",
    "\n"
   ]
  },
  {
   "cell_type": "code",
   "execution_count": 53,
   "id": "4af54eab",
   "metadata": {},
   "outputs": [
    {
     "name": "stdout",
     "output_type": "stream",
     "text": [
      "\n",
      "Peak Sales Days:\n",
      "                     Date  TotalRevenue  TotalTransactions\n",
      "15295 2011-10-31 14:41:00      13177.03                  1\n",
      "\n",
      "Lowest Sales Days:\n",
      "                     Date  TotalRevenue  TotalTransactions\n",
      "13982 2011-10-11 11:02:00          0.38                  1\n",
      "\n",
      "Month with Highest Sales:\n",
      "    Month  TotalRevenue  TotalTransactions\n",
      "10     11    1066287.64               2890\n"
     ]
    }
   ],
   "source": [
    "#Identifying Seasonal Peaks and Dips\n",
    "\n",
    "peak_days = daily_sales[daily_sales['TotalRevenue'] == daily_sales['TotalRevenue'].max()]\n",
    "print(\"\\nPeak Sales Days:\")\n",
    "print(peak_days)\n",
    "\n",
    "\n",
    "low_days = daily_sales[daily_sales['TotalRevenue'] == daily_sales['TotalRevenue'].min()]\n",
    "print(\"\\nLowest Sales Days:\")\n",
    "print(low_days)\n",
    "\n",
    "\n",
    "peak_month = monthly_sales[monthly_sales['TotalRevenue'] == monthly_sales['TotalRevenue'].max()]\n",
    "print(\"\\nMonth with Highest Sales:\")\n",
    "print(peak_month)"
   ]
  },
  {
   "cell_type": "markdown",
   "id": "354a3136",
   "metadata": {},
   "source": [
    "# 7.2 Top Performing Products "
   ]
  },
  {
   "cell_type": "code",
   "execution_count": 54,
   "id": "7c921838",
   "metadata": {},
   "outputs": [
    {
     "name": "stdout",
     "output_type": "stream",
     "text": [
      "\n",
      "Product Performance:\n",
      "                     Itemname  TotalRevenue  TotalQuantitySold  AvgPrice\n",
      "0       *Boombox Ipod Classic          9.89                1.0  9.890000\n",
      "1     *USB Office Mirror Ball         16.94                2.0  8.470000\n",
      "2      10 COLOUR SPACEBOY PEN       4232.65             4844.0  1.059904\n",
      "3  12 COLOURED PARTY BALLOONS       1234.71             1882.0  0.705276\n",
      "4   12 DAISY PEGS IN WOOD BOX        513.42              296.0  1.930519\n"
     ]
    }
   ],
   "source": [
    "# Aggregating data by Itemname to calculate total revenue and total quantity sold\n",
    "product_performance = df.groupby('Itemname').agg(\n",
    "    TotalRevenue=('TotalPrice', 'sum'),\n",
    "    TotalQuantitySold=('Quantity', 'sum'),\n",
    "    AvgPrice=('Price', 'mean')\n",
    ").reset_index()\n",
    "\n",
    "print(\"\\nProduct Performance:\")\n",
    "print(product_performance.head())\n"
   ]
  },
  {
   "cell_type": "code",
   "execution_count": 55,
   "id": "0c27f266",
   "metadata": {},
   "outputs": [
    {
     "name": "stdout",
     "output_type": "stream",
     "text": [
      "\n",
      "Top Products by Revenue:\n",
      "                                Itemname  TotalRevenue  TotalQuantitySold  \\\n",
      "2884            REGENCY CAKESTAND 3 TIER     104759.23            10621.0   \n",
      "2445                       PARTY BUNTING      66887.54            12256.0   \n",
      "3882  WHITE HANGING HEART T-LIGHT HOLDER      60001.97            20779.0   \n",
      "1842             JUMBO BAG RED RETROSPOT      46893.52            21944.0   \n",
      "2414      PAPER CHAIN KIT 50'S CHRISTMAS      36525.23            11145.0   \n",
      "\n",
      "      AvgPrice  \n",
      "2884  9.877241  \n",
      "2445  5.679521  \n",
      "3882  3.225693  \n",
      "1842  2.491646  \n",
      "2414  3.370051  \n",
      "\n",
      "Top Products by Quantity Sold:\n",
      "                                Itemname  TotalRevenue  TotalQuantitySold  \\\n",
      "1842             JUMBO BAG RED RETROSPOT      46893.52            21944.0   \n",
      "232        ASSORTED COLOUR BIRD ORNAMENT      35926.77            21121.0   \n",
      "3882  WHITE HANGING HEART T-LIGHT HOLDER      60001.97            20779.0   \n",
      "2370     PACK OF 72 RETROSPOT CAKE CASES      12805.72            19042.0   \n",
      "2029             LUNCH BAG RED RETROSPOT      27160.01            13962.0   \n",
      "\n",
      "      AvgPrice  \n",
      "1842  2.491646  \n",
      "232   1.723113  \n",
      "3882  3.225693  \n",
      "2370  0.768275  \n",
      "2029  2.139223  \n"
     ]
    }
   ],
   "source": [
    "# Sorting by TotalRevenue in descending order\n",
    "top_revenue_products = product_performance.sort_values(by='TotalRevenue', ascending=False)\n",
    "\n",
    "# Sorting by TotalQuantitySold in descending order\n",
    "top_quantity_products = product_performance.sort_values(by='TotalQuantitySold', ascending=False)\n",
    "\n",
    "\n",
    "print(\"\\nTop Products by Revenue:\")\n",
    "print(top_revenue_products.head())\n",
    "\n",
    "\n",
    "print(\"\\nTop Products by Quantity Sold:\")\n",
    "print(top_quantity_products.head())\n"
   ]
  },
  {
   "cell_type": "code",
   "execution_count": 56,
   "id": "def54a9d",
   "metadata": {},
   "outputs": [
    {
     "name": "stdout",
     "output_type": "stream",
     "text": [
      "\n",
      "Top 10 Products by Revenue:\n",
      "                                Itemname  TotalRevenue  TotalQuantitySold  \\\n",
      "2884            REGENCY CAKESTAND 3 TIER     104759.23            10621.0   \n",
      "2445                       PARTY BUNTING      66887.54            12256.0   \n",
      "3882  WHITE HANGING HEART T-LIGHT HOLDER      60001.97            20779.0   \n",
      "1842             JUMBO BAG RED RETROSPOT      46893.52            21944.0   \n",
      "2414      PAPER CHAIN KIT 50'S CHRISTMAS      36525.23            11145.0   \n",
      "232        ASSORTED COLOUR BIRD ORNAMENT      35926.77            21121.0   \n",
      "3491                      SPOTTY BUNTING      33791.97             6422.0   \n",
      "758                        CHILLI LIGHTS      33324.20             6141.0   \n",
      "2721                             POSTAGE      29368.91             3002.0   \n",
      "1809            JAM MAKING SET WITH JARS      28594.03             6544.0   \n",
      "\n",
      "      AvgPrice  \n",
      "2884  9.877241  \n",
      "2445  5.679521  \n",
      "3882  3.225693  \n",
      "1842  2.491646  \n",
      "2414  3.370051  \n",
      "232   1.723113  \n",
      "3491  5.438140  \n",
      "758   6.315098  \n",
      "2721  9.666159  \n",
      "1809  5.117908  \n",
      "\n",
      "Top 10 Products by Quantity Sold:\n",
      "                                Itemname  TotalRevenue  TotalQuantitySold  \\\n",
      "1842             JUMBO BAG RED RETROSPOT      46893.52            21944.0   \n",
      "232        ASSORTED COLOUR BIRD ORNAMENT      35926.77            21121.0   \n",
      "3882  WHITE HANGING HEART T-LIGHT HOLDER      60001.97            20779.0   \n",
      "2370     PACK OF 72 RETROSPOT CAKE CASES      12805.72            19042.0   \n",
      "2029             LUNCH BAG RED RETROSPOT      27160.01            13962.0   \n",
      "3713     VICTORIAN GLASS HANGING T-LIGHT      20003.40            13326.0   \n",
      "3972   WORLD WAR 2 GLIDERS ASSTD DESIGNS       3746.96            12808.0   \n",
      "2445                       PARTY BUNTING      66887.54            12256.0   \n",
      "2771                  RABBIT NIGHT LIGHT      27407.46            12119.0   \n",
      "2709                      POPCORN HOLDER      11154.41            11331.0   \n",
      "\n",
      "      AvgPrice  \n",
      "1842  2.491646  \n",
      "232   1.723113  \n",
      "3882  3.225693  \n",
      "2370  0.768275  \n",
      "2029  2.139223  \n",
      "3713  1.647739  \n",
      "3972  0.321950  \n",
      "2445  5.679521  \n",
      "2771  2.392146  \n",
      "2709  1.026558  \n"
     ]
    }
   ],
   "source": [
    "# Top 10 products by revenue\n",
    "top_10_revenue = top_revenue_products.head(10)\n",
    "\n",
    "# Top 10 products by quantity sold\n",
    "top_10_quantity = top_quantity_products.head(10)\n",
    "\n",
    "print(\"\\nTop 10 Products by Revenue:\")\n",
    "print(top_10_revenue)\n",
    "\n",
    "print(\"\\nTop 10 Products by Quantity Sold:\")\n",
    "print(top_10_quantity)\n"
   ]
  },
  {
   "cell_type": "markdown",
   "id": "a1c604f5",
   "metadata": {},
   "source": [
    "# 7.3 Country-Wise Sales:"
   ]
  },
  {
   "cell_type": "code",
   "execution_count": 57,
   "id": "7ce3c10c",
   "metadata": {},
   "outputs": [
    {
     "name": "stdout",
     "output_type": "stream",
     "text": [
      "\n",
      "Country-Wise Sales Performance:\n",
      "           Country   TotalSales   AvgSales  NumTransactions\n",
      "28  United Kingdom  6356733.574  13.217119            18667\n",
      "6          Germany   193079.640  21.389126              457\n",
      "5           France   166256.170  19.808909              392\n",
      "16     Netherlands    96995.740  41.047711               95\n",
      "0        Australia    50768.300  42.878632               57\n"
     ]
    },
    {
     "data": {
      "image/png": "[encoded data removed]",
      "text/plain": [
       "<Figure size 1400x800 with 1 Axes>"
      ]
     },
     "metadata": {},
     "output_type": "display_data"
    }
   ],
   "source": [
    "# Grouping by 'Country' to calculate total sales, average sales, and number of transactions\n",
    "country_sales = df.groupby('Country').agg(\n",
    "    TotalSales=('TotalPrice', 'sum'),\n",
    "    AvgSales=('TotalPrice', 'mean'),\n",
    "    NumTransactions=('BillNo', 'nunique')\n",
    ").reset_index()\n",
    "\n",
    "# Sorting by TotalSales in descending order\n",
    "country_sales = country_sales.sort_values(by='TotalSales', ascending=False)\n",
    "\n",
    "print(\"\\nCountry-Wise Sales Performance:\")\n",
    "print(country_sales.head())\n",
    "\n",
    "plt.figure(figsize=(14, 8))\n",
    "plt.barh(country_sales['Country'], country_sales['TotalSales'], color='skyblue')\n",
    "plt.title('Total Sales by Country', fontsize=16)\n",
    "plt.xlabel('Total Sales', fontsize=12)\n",
    "plt.ylabel('Country', fontsize=12)\n",
    "plt.gca().invert_yaxis()  # Highest sales at the top\n",
    "plt.show()\n"
   ]
  },
  {
   "cell_type": "code",
   "execution_count": 58,
   "id": "a8eff821",
   "metadata": {},
   "outputs": [
    {
     "name": "stdout",
     "output_type": "stream",
     "text": [
      "\n",
      "Top 5 Countries by Total Sales:\n",
      "           Country   TotalSales   AvgSales  NumTransactions\n",
      "28  United Kingdom  6356733.574  13.217119            18667\n",
      "6          Germany   193079.640  21.389126              457\n",
      "5           France   166256.170  19.808909              392\n",
      "16     Netherlands    96995.740  41.047711               95\n",
      "0        Australia    50768.300  42.878632               57\n"
     ]
    }
   ],
   "source": [
    "# Extracting the top 5 countries by total sales\n",
    "top_countries = country_sales.head(5)\n",
    "\n",
    "print(\"\\nTop 5 Countries by Total Sales:\")\n",
    "print(top_countries)\n"
   ]
  },
  {
   "cell_type": "markdown",
   "id": "f6f080eb",
   "metadata": {},
   "source": [
    "# 7.4 Profit Analysis"
   ]
  },
  {
   "cell_type": "code",
   "execution_count": 59,
   "id": "055bc7f7",
   "metadata": {},
   "outputs": [
    {
     "name": "stdout",
     "output_type": "stream",
     "text": [
      "\n",
      "Dataset with Cost, Profit, Revenue:\n",
      "   BillNo                             Itemname  Quantity                Date  \\\n",
      "0  536365   WHITE HANGING HEART T-LIGHT HOLDER       6.0 2010-12-01 08:26:00   \n",
      "1  536365                  WHITE METAL LANTERN       6.0 2010-12-01 08:26:00   \n",
      "2  536365       CREAM CUPID HEARTS COAT HANGER       8.0 2010-12-01 08:26:00   \n",
      "3  536365  KNITTED UNION FLAG HOT WATER BOTTLE       6.0 2010-12-01 08:26:00   \n",
      "4  536365       RED WOOLLY HOTTIE WHITE HEART.       6.0 2010-12-01 08:26:00   \n",
      "\n",
      "   Price CustomerID         Country  Quantity_Log  Price_Log  \\\n",
      "0   2.55    17850.0  United Kingdom      1.945910   1.266948   \n",
      "1   3.39    17850.0  United Kingdom      1.945910   1.479329   \n",
      "2   2.75    17850.0  United Kingdom      2.197225   1.321756   \n",
      "3   3.39    17850.0  United Kingdom      1.945910   1.479329   \n",
      "4   3.39    17850.0  United Kingdom      1.945910   1.479329   \n",
      "\n",
      "   Quantity_Outlier  Price_Outlier  TotalPrice  Month    Weekday  Week   Cost  \\\n",
      "0                 0              0       15.30     12  Wednesday    48  1.785   \n",
      "1                 0              0       20.34     12  Wednesday    48  2.373   \n",
      "2                 0              0       22.00     12  Wednesday    48  1.925   \n",
      "3                 0              0       20.34     12  Wednesday    48  2.373   \n",
      "4                 0              0       20.34     12  Wednesday    48  2.373   \n",
      "\n",
      "   Profit  TotalRevenue  TotalProfit  \n",
      "0   0.765         15.30        4.590  \n",
      "1   1.017         20.34        6.102  \n",
      "2   0.825         22.00        6.600  \n",
      "3   1.017         20.34        6.102  \n",
      "4   1.017         20.34        6.102  \n"
     ]
    }
   ],
   "source": [
    "# Assuming cost is 70% of Price (adjust percentage as needed)\n",
    "df['Cost'] = df['Price'] * 0.7\n",
    "\n",
    "# Profit per unit\n",
    "df['Profit'] = df['Price'] - df['Cost']\n",
    "\n",
    "# Calculating Total Revenue and Total Profit for each transaction\n",
    "df['TotalRevenue'] = df['Quantity'] * df['Price']\n",
    "df['TotalProfit'] = df['Quantity'] * df['Profit']\n",
    "\n",
    "print(\"\\nDataset with Cost, Profit, Revenue:\")\n",
    "print(df.head())\n"
   ]
  },
  {
   "cell_type": "code",
   "execution_count": 60,
   "id": "18e6c280",
   "metadata": {},
   "outputs": [
    {
     "name": "stdout",
     "output_type": "stream",
     "text": [
      "\n",
      "Product Performance Summary:\n",
      "                                Itemname  TotalRevenue  TotalProfit  \\\n",
      "2884            REGENCY CAKESTAND 3 TIER     104759.23    31427.769   \n",
      "2445                       PARTY BUNTING      66887.54    20066.262   \n",
      "3882  WHITE HANGING HEART T-LIGHT HOLDER      60001.97    18000.591   \n",
      "1842             JUMBO BAG RED RETROSPOT      46893.52    14068.056   \n",
      "2414      PAPER CHAIN KIT 50'S CHRISTMAS      36525.23    10957.569   \n",
      "\n",
      "      TotalQuantity  ProfitMargin  \n",
      "2884        10621.0          30.0  \n",
      "2445        12256.0          30.0  \n",
      "3882        20779.0          30.0  \n",
      "1842        21944.0          30.0  \n",
      "2414        11145.0          30.0  \n"
     ]
    }
   ],
   "source": [
    "# Grouping by Itemname to calculate total revenue, profit, and profit margin\n",
    "product_performance = df.groupby('Itemname').agg(\n",
    "    TotalRevenue=('TotalRevenue', 'sum'),\n",
    "    TotalProfit=('TotalProfit', 'sum'),\n",
    "    TotalQuantity=('Quantity', 'sum')\n",
    ").reset_index()\n",
    "\n",
    "\n",
    "product_performance['ProfitMargin'] = (product_performance['TotalProfit'] / product_performance['TotalRevenue']) * 100\n",
    "\n",
    "\n",
    "product_performance = product_performance.sort_values(by='TotalProfit', ascending=False)\n",
    "\n",
    "print(\"\\nProduct Performance Summary:\")\n",
    "print(product_performance.head())\n"
   ]
  },
  {
   "cell_type": "code",
   "execution_count": 61,
   "id": "8d02a1c9",
   "metadata": {},
   "outputs": [
    {
     "data": {
      "image/png": "[encoded data removed]",
      "text/plain": [
       "<Figure size 1400x800 with 1 Axes>"
      ]
     },
     "metadata": {},
     "output_type": "display_data"
    }
   ],
   "source": [
    "top_products = product_performance.head(10)\n",
    "\n",
    "plt.figure(figsize=(14, 8))\n",
    "plt.barh(top_products['Itemname'], top_products['TotalProfit'], color='lightgreen')\n",
    "plt.title('Top 10 Products by Profit', fontsize=16)\n",
    "plt.xlabel('Total Profit', fontsize=12)\n",
    "plt.ylabel('Product', fontsize=12)\n",
    "plt.gca().invert_yaxis()  \n",
    "plt.show()"
   ]
  },
  {
   "cell_type": "markdown",
   "id": "b9edac6d",
   "metadata": {},
   "source": [
    "# 7.5 Churn Analysis "
   ]
  },
  {
   "cell_type": "code",
   "execution_count": 62,
   "id": "69f811a1",
   "metadata": {},
   "outputs": [
    {
     "name": "stdout",
     "output_type": "stream",
     "text": [
      "\n",
      "Customer Purchase Summary:\n",
      "  CustomerID  PurchaseCount  TotalSpent       FirstPurchase  \\\n",
      "0    12346.0              1       29.12 2011-01-18 10:01:00   \n",
      "1    12347.0              7     3942.88 2010-12-07 14:57:00   \n",
      "2    12349.0              1     1385.83 2011-11-21 09:51:00   \n",
      "3    12350.0              1      304.29 2011-02-02 16:01:00   \n",
      "4    12352.0              8     1469.80 2011-02-16 12:33:00   \n",
      "\n",
      "         LastPurchase  \n",
      "0 2011-01-18 10:01:00  \n",
      "1 2011-12-07 15:52:00  \n",
      "2 2011-11-21 09:51:00  \n",
      "3 2011-02-02 16:01:00  \n",
      "4 2011-11-03 14:37:00  \n"
     ]
    }
   ],
   "source": [
    "# Calculating the number of purchases per customer\n",
    "customer_purchases = df.groupby('CustomerID').agg(\n",
    "    PurchaseCount=('BillNo', 'nunique'),  # Number of unique transactions\n",
    "    TotalSpent=('TotalPrice', 'sum'),     # Total amount spent\n",
    "    FirstPurchase=('Date', 'min'),        # First purchase date\n",
    "    LastPurchase=('Date', 'max')          # Last purchase date\n",
    ").reset_index()\n",
    "\n",
    "print(\"\\nCustomer Purchase Summary:\")\n",
    "print(customer_purchases.head())"
   ]
  },
  {
   "cell_type": "code",
   "execution_count": 63,
   "id": "e1d4dea6",
   "metadata": {},
   "outputs": [
    {
     "name": "stdout",
     "output_type": "stream",
     "text": [
      "\n",
      "Repeat Customers Summary:\n",
      "  CustomerID  IsRepeatCustomer\n",
      "0    12346.0             False\n",
      "1    12347.0              True\n",
      "2    12349.0             False\n",
      "3    12350.0             False\n",
      "4    12352.0              True\n"
     ]
    }
   ],
   "source": [
    "# Flag customers with more than 1 purchase as repeat customers\n",
    "customer_purchases['IsRepeatCustomer'] = customer_purchases['PurchaseCount'] > 1\n",
    "\n",
    "print(\"\\nRepeat Customers Summary:\")\n",
    "print(customer_purchases[['CustomerID', 'IsRepeatCustomer']].head())\n"
   ]
  },
  {
   "cell_type": "code",
   "execution_count": 64,
   "id": "486b7d49",
   "metadata": {},
   "outputs": [
    {
     "name": "stdout",
     "output_type": "stream",
     "text": [
      "\n",
      "Retention Rate: 65.54%\n"
     ]
    }
   ],
   "source": [
    "# Retention rate\n",
    "retention_rate = customer_purchases['IsRepeatCustomer'].mean() * 100\n",
    "print(f\"\\nRetention Rate: {retention_rate:.2f}%\")"
   ]
  },
  {
   "cell_type": "code",
   "execution_count": 65,
   "id": "7b82ccd9",
   "metadata": {},
   "outputs": [
    {
     "name": "stdout",
     "output_type": "stream",
     "text": [
      "Churn Rate: 34.46%\n"
     ]
    }
   ],
   "source": [
    "# Churn rate\n",
    "churn_rate = 100 - retention_rate\n",
    "print(f\"Churn Rate: {churn_rate:.2f}%\")\n"
   ]
  },
  {
   "cell_type": "code",
   "execution_count": 66,
   "id": "87729191",
   "metadata": {},
   "outputs": [
    {
     "name": "stdout",
     "output_type": "stream",
     "text": [
      "\n",
      "Monthly Retention Rates:\n",
      "Month\n",
      "2010-12    96.590909\n",
      "2011-01    96.739130\n",
      "2011-02    95.727637\n",
      "2011-03    97.098446\n",
      "2011-04    97.055359\n",
      "2011-05    97.333333\n",
      "2011-06    97.250509\n",
      "2011-07    97.343252\n",
      "2011-08    96.436285\n",
      "2011-09    97.770701\n",
      "2011-10    98.442136\n",
      "2011-11    97.883918\n",
      "2011-12    97.049180\n",
      "Freq: M, Name: IsRepeat, dtype: float64\n"
     ]
    }
   ],
   "source": [
    "# Extracting month from Date for trend analysis\n",
    "df['Month'] = df['Date'].dt.to_period('M')\n",
    "\n",
    "# Calculating the number of repeat and new customers per month\n",
    "repeat_analysis = df.groupby(['Month', 'CustomerID']).size().reset_index(name='PurchaseCount')\n",
    "repeat_analysis['IsRepeat'] = repeat_analysis['PurchaseCount'] > 1\n",
    "\n",
    "# Monthly retention trend\n",
    "monthly_retention = repeat_analysis.groupby('Month')['IsRepeat'].mean() * 100\n",
    "print(\"\\nMonthly Retention Rates:\")\n",
    "print(monthly_retention)\n"
   ]
  },
  {
   "cell_type": "code",
   "execution_count": 67,
   "id": "f772c51e",
   "metadata": {},
   "outputs": [
    {
     "data": {
      "image/png": "[encoded data removed]",
      "text/plain": [
       "<Figure size 1200x600 with 1 Axes>"
      ]
     },
     "metadata": {},
     "output_type": "display_data"
    }
   ],
   "source": [
    "plt.figure(figsize=(12, 6))\n",
    "monthly_retention.plot(kind='line', marker='o', color='green')\n",
    "plt.title('Customer Retention Over Time', fontsize=16)\n",
    "plt.xlabel('Month', fontsize=12)\n",
    "plt.ylabel('Retention Rate (%)', fontsize=12)\n",
    "plt.grid()\n",
    "plt.show()\n"
   ]
  },
  {
   "cell_type": "code",
   "execution_count": 68,
   "id": "66dffa10",
   "metadata": {},
   "outputs": [
    {
     "name": "stdout",
     "output_type": "stream",
     "text": [
      "\n",
      "High-Value Repeat Customers:\n",
      "     CustomerID  PurchaseCount  TotalSpent       FirstPurchase  \\\n",
      "1       12347.0              7     3942.88 2010-12-07 14:57:00   \n",
      "4       12352.0              8     1469.80 2011-02-16 12:33:00   \n",
      "8       12356.0              3     2245.35 2011-01-18 09:50:00   \n",
      "10      12358.0              2      984.16 2011-07-12 10:04:00   \n",
      "11      12360.0              3     2252.43 2011-05-23 09:43:00   \n",
      "...         ...            ...         ...                 ...   \n",
      "4282    18265.0              2      776.69 2011-07-04 15:26:00   \n",
      "4286    18272.0              6     3003.46 2011-04-07 09:35:00   \n",
      "4295    18283.0             16     2039.41 2011-01-06 14:14:00   \n",
      "4296    18287.0              3     1543.84 2011-05-22 10:39:00   \n",
      "4297      Guest           2045  1249807.53 2010-12-01 14:32:00   \n",
      "\n",
      "            LastPurchase  IsRepeatCustomer  \n",
      "1    2011-12-07 15:52:00              True  \n",
      "4    2011-11-03 14:37:00              True  \n",
      "8    2011-11-17 08:40:00              True  \n",
      "10   2011-12-08 10:26:00              True  \n",
      "11   2011-10-18 15:22:00              True  \n",
      "...                  ...               ...  \n",
      "4282 2011-09-28 14:10:00              True  \n",
      "4286 2011-12-07 12:43:00              True  \n",
      "4295 2011-12-06 12:02:00              True  \n",
      "4296 2011-10-28 09:29:00              True  \n",
      "4297 2011-12-09 10:26:00              True  \n",
      "\n",
      "[2174 rows x 6 columns]\n"
     ]
    }
   ],
   "source": [
    "# Filtering repeat customers who spent more than a threshold (e.g., $500)\n",
    "high_value_customers = customer_purchases[(customer_purchases['IsRepeatCustomer']) & \n",
    "                                          (customer_purchases['TotalSpent'] > 500)]\n",
    "\n",
    "print(\"\\nHigh-Value Repeat Customers:\")\n",
    "print(high_value_customers)"
   ]
  },
  {
   "cell_type": "code",
   "execution_count": 69,
   "id": "b48b270c",
   "metadata": {},
   "outputs": [
    {
     "name": "stdout",
     "output_type": "stream",
     "text": [
      "\n",
      "High-Value Repeat Customers:\n",
      "     CustomerID  PurchaseCount  TotalSpent       FirstPurchase  \\\n",
      "1       12347.0              7     3942.88 2010-12-07 14:57:00   \n",
      "4       12352.0              8     1469.80 2011-02-16 12:33:00   \n",
      "8       12356.0              3     2245.35 2011-01-18 09:50:00   \n",
      "10      12358.0              2      984.16 2011-07-12 10:04:00   \n",
      "11      12360.0              3     2252.43 2011-05-23 09:43:00   \n",
      "...         ...            ...         ...                 ...   \n",
      "4282    18265.0              2      776.69 2011-07-04 15:26:00   \n",
      "4286    18272.0              6     3003.46 2011-04-07 09:35:00   \n",
      "4295    18283.0             16     2039.41 2011-01-06 14:14:00   \n",
      "4296    18287.0              3     1543.84 2011-05-22 10:39:00   \n",
      "4297      Guest           2045  1249807.53 2010-12-01 14:32:00   \n",
      "\n",
      "            LastPurchase  IsRepeatCustomer  \n",
      "1    2011-12-07 15:52:00              True  \n",
      "4    2011-11-03 14:37:00              True  \n",
      "8    2011-11-17 08:40:00              True  \n",
      "10   2011-12-08 10:26:00              True  \n",
      "11   2011-10-18 15:22:00              True  \n",
      "...                  ...               ...  \n",
      "4282 2011-09-28 14:10:00              True  \n",
      "4286 2011-12-07 12:43:00              True  \n",
      "4295 2011-12-06 12:02:00              True  \n",
      "4296 2011-10-28 09:29:00              True  \n",
      "4297 2011-12-09 10:26:00              True  \n",
      "\n",
      "[2174 rows x 6 columns]\n"
     ]
    }
   ],
   "source": [
    "# Filtering repeat customers who spent more than a threshold (e.g., $500)\n",
    "high_value_customers = customer_purchases[(customer_purchases['IsRepeatCustomer']) & \n",
    "                                          (customer_purchases['TotalSpent'] > 500)]\n",
    "\n",
    "print(\"\\nHigh-Value Repeat Customers:\")\n",
    "print(high_value_customers)"
   ]
  },
  {
   "cell_type": "code",
   "execution_count": 70,
   "id": "d769e253",
   "metadata": {},
   "outputs": [
    {
     "name": "stdout",
     "output_type": "stream",
     "text": [
      "\n",
      "RFM Metrics for Customers:\n",
      "  CustomerID  Recency  Frequency  Monetary\n",
      "0    12346.0      325          1     29.12\n",
      "1    12347.0        1          7   3942.88\n",
      "2    12349.0       18          1   1385.83\n",
      "3    12350.0      309          1    304.29\n",
      "4    12352.0       35          8   1469.80\n"
     ]
    }
   ],
   "source": [
    "import datetime as dt\n",
    "\n",
    "snapshot_date = df['Date'].max() \n",
    "customer_purchases['Recency'] = (snapshot_date - customer_purchases['LastPurchase']).dt.days\n",
    "customer_purchases['Frequency'] = customer_purchases['PurchaseCount']\n",
    "customer_purchases['Monetary'] = customer_purchases['TotalSpent']\n",
    "\n",
    "print(\"\\nRFM Metrics for Customers:\")\n",
    "print(customer_purchases[['CustomerID', 'Recency', 'Frequency', 'Monetary']].head())\n"
   ]
  },
  {
   "cell_type": "code",
   "execution_count": 71,
   "id": "3ef8250a",
   "metadata": {},
   "outputs": [
    {
     "data": {
      "image/png": "[encoded data removed]",
      "text/plain": [
       "<Figure size 1200x600 with 1 Axes>"
      ]
     },
     "metadata": {},
     "output_type": "display_data"
    }
   ],
   "source": [
    "plt.figure(figsize=(12, 6))\n",
    "sns.scatterplot(x='Recency', y='Frequency', size='Monetary', data=customer_purchases, hue='IsRepeatCustomer', alpha=0.7)\n",
    "plt.title('Recency vs Frequency (Churn Risk Analysis)', fontsize=16)\n",
    "plt.xlabel('Recency (Days)', fontsize=12)\n",
    "plt.ylabel('Frequency (Purchases)', fontsize=12)\n",
    "plt.legend(title='Is Repeat Customer', loc='upper right')\n",
    "plt.grid()\n",
    "plt.show()"
   ]
  },
  {
   "cell_type": "code",
   "execution_count": 72,
   "id": "0ed59403",
   "metadata": {},
   "outputs": [
    {
     "data": {
      "text/html": [
       "<div>\n",
       "<style scoped>\n",
       "    .dataframe tbody tr th:only-of-type {\n",
       "        vertical-align: middle;\n",
       "    }\n",
       "\n",
       "    .dataframe tbody tr th {\n",
       "        vertical-align: top;\n",
       "    }\n",
       "\n",
       "    .dataframe thead th {\n",
       "        text-align: right;\n",
       "    }\n",
       "</style>\n",
       "<table border=\"1\" class=\"dataframe\">\n",
       "  <thead>\n",
       "    <tr style=\"text-align: right;\">\n",
       "      <th></th>\n",
       "      <th>BillNo</th>\n",
       "      <th>Itemname</th>\n",
       "      <th>Quantity</th>\n",
       "      <th>Date</th>\n",
       "      <th>Price</th>\n",
       "      <th>CustomerID</th>\n",
       "      <th>Country</th>\n",
       "      <th>Quantity_Log</th>\n",
       "      <th>Price_Log</th>\n",
       "      <th>Quantity_Outlier</th>\n",
       "      <th>Price_Outlier</th>\n",
       "      <th>TotalPrice</th>\n",
       "      <th>Month</th>\n",
       "      <th>Weekday</th>\n",
       "      <th>Week</th>\n",
       "      <th>Cost</th>\n",
       "      <th>Profit</th>\n",
       "      <th>TotalRevenue</th>\n",
       "      <th>TotalProfit</th>\n",
       "    </tr>\n",
       "  </thead>\n",
       "  <tbody>\n",
       "    <tr>\n",
       "      <th>0</th>\n",
       "      <td>536365</td>\n",
       "      <td>WHITE HANGING HEART T-LIGHT HOLDER</td>\n",
       "      <td>6.0</td>\n",
       "      <td>2010-12-01 08:26:00</td>\n",
       "      <td>2.55</td>\n",
       "      <td>17850.0</td>\n",
       "      <td>United Kingdom</td>\n",
       "      <td>1.945910</td>\n",
       "      <td>1.266948</td>\n",
       "      <td>0</td>\n",
       "      <td>0</td>\n",
       "      <td>15.30</td>\n",
       "      <td>2010-12</td>\n",
       "      <td>Wednesday</td>\n",
       "      <td>48</td>\n",
       "      <td>1.785</td>\n",
       "      <td>0.765</td>\n",
       "      <td>15.30</td>\n",
       "      <td>4.590</td>\n",
       "    </tr>\n",
       "    <tr>\n",
       "      <th>1</th>\n",
       "      <td>536365</td>\n",
       "      <td>WHITE METAL LANTERN</td>\n",
       "      <td>6.0</td>\n",
       "      <td>2010-12-01 08:26:00</td>\n",
       "      <td>3.39</td>\n",
       "      <td>17850.0</td>\n",
       "      <td>United Kingdom</td>\n",
       "      <td>1.945910</td>\n",
       "      <td>1.479329</td>\n",
       "      <td>0</td>\n",
       "      <td>0</td>\n",
       "      <td>20.34</td>\n",
       "      <td>2010-12</td>\n",
       "      <td>Wednesday</td>\n",
       "      <td>48</td>\n",
       "      <td>2.373</td>\n",
       "      <td>1.017</td>\n",
       "      <td>20.34</td>\n",
       "      <td>6.102</td>\n",
       "    </tr>\n",
       "    <tr>\n",
       "      <th>2</th>\n",
       "      <td>536365</td>\n",
       "      <td>CREAM CUPID HEARTS COAT HANGER</td>\n",
       "      <td>8.0</td>\n",
       "      <td>2010-12-01 08:26:00</td>\n",
       "      <td>2.75</td>\n",
       "      <td>17850.0</td>\n",
       "      <td>United Kingdom</td>\n",
       "      <td>2.197225</td>\n",
       "      <td>1.321756</td>\n",
       "      <td>0</td>\n",
       "      <td>0</td>\n",
       "      <td>22.00</td>\n",
       "      <td>2010-12</td>\n",
       "      <td>Wednesday</td>\n",
       "      <td>48</td>\n",
       "      <td>1.925</td>\n",
       "      <td>0.825</td>\n",
       "      <td>22.00</td>\n",
       "      <td>6.600</td>\n",
       "    </tr>\n",
       "    <tr>\n",
       "      <th>3</th>\n",
       "      <td>536365</td>\n",
       "      <td>KNITTED UNION FLAG HOT WATER BOTTLE</td>\n",
       "      <td>6.0</td>\n",
       "      <td>2010-12-01 08:26:00</td>\n",
       "      <td>3.39</td>\n",
       "      <td>17850.0</td>\n",
       "      <td>United Kingdom</td>\n",
       "      <td>1.945910</td>\n",
       "      <td>1.479329</td>\n",
       "      <td>0</td>\n",
       "      <td>0</td>\n",
       "      <td>20.34</td>\n",
       "      <td>2010-12</td>\n",
       "      <td>Wednesday</td>\n",
       "      <td>48</td>\n",
       "      <td>2.373</td>\n",
       "      <td>1.017</td>\n",
       "      <td>20.34</td>\n",
       "      <td>6.102</td>\n",
       "    </tr>\n",
       "    <tr>\n",
       "      <th>4</th>\n",
       "      <td>536365</td>\n",
       "      <td>RED WOOLLY HOTTIE WHITE HEART.</td>\n",
       "      <td>6.0</td>\n",
       "      <td>2010-12-01 08:26:00</td>\n",
       "      <td>3.39</td>\n",
       "      <td>17850.0</td>\n",
       "      <td>United Kingdom</td>\n",
       "      <td>1.945910</td>\n",
       "      <td>1.479329</td>\n",
       "      <td>0</td>\n",
       "      <td>0</td>\n",
       "      <td>20.34</td>\n",
       "      <td>2010-12</td>\n",
       "      <td>Wednesday</td>\n",
       "      <td>48</td>\n",
       "      <td>2.373</td>\n",
       "      <td>1.017</td>\n",
       "      <td>20.34</td>\n",
       "      <td>6.102</td>\n",
       "    </tr>\n",
       "  </tbody>\n",
       "</table>\n",
       "</div>"
      ],
      "text/plain": [
       "   BillNo                             Itemname  Quantity                Date  \\\n",
       "0  536365   WHITE HANGING HEART T-LIGHT HOLDER       6.0 2010-12-01 08:26:00   \n",
       "1  536365                  WHITE METAL LANTERN       6.0 2010-12-01 08:26:00   \n",
       "2  536365       CREAM CUPID HEARTS COAT HANGER       8.0 2010-12-01 08:26:00   \n",
       "3  536365  KNITTED UNION FLAG HOT WATER BOTTLE       6.0 2010-12-01 08:26:00   \n",
       "4  536365       RED WOOLLY HOTTIE WHITE HEART.       6.0 2010-12-01 08:26:00   \n",
       "\n",
       "   Price CustomerID         Country  Quantity_Log  Price_Log  \\\n",
       "0   2.55    17850.0  United Kingdom      1.945910   1.266948   \n",
       "1   3.39    17850.0  United Kingdom      1.945910   1.479329   \n",
       "2   2.75    17850.0  United Kingdom      2.197225   1.321756   \n",
       "3   3.39    17850.0  United Kingdom      1.945910   1.479329   \n",
       "4   3.39    17850.0  United Kingdom      1.945910   1.479329   \n",
       "\n",
       "   Quantity_Outlier  Price_Outlier  TotalPrice    Month    Weekday  Week  \\\n",
       "0                 0              0       15.30  2010-12  Wednesday    48   \n",
       "1                 0              0       20.34  2010-12  Wednesday    48   \n",
       "2                 0              0       22.00  2010-12  Wednesday    48   \n",
       "3                 0              0       20.34  2010-12  Wednesday    48   \n",
       "4                 0              0       20.34  2010-12  Wednesday    48   \n",
       "\n",
       "    Cost  Profit  TotalRevenue  TotalProfit  \n",
       "0  1.785   0.765         15.30        4.590  \n",
       "1  2.373   1.017         20.34        6.102  \n",
       "2  1.925   0.825         22.00        6.600  \n",
       "3  2.373   1.017         20.34        6.102  \n",
       "4  2.373   1.017         20.34        6.102  "
      ]
     },
     "execution_count": 72,
     "metadata": {},
     "output_type": "execute_result"
    }
   ],
   "source": [
    "df.head(5)"
   ]
  },
  {
   "cell_type": "code",
   "execution_count": 73,
   "id": "56ae3ee2",
   "metadata": {},
   "outputs": [],
   "source": [
    "df = df.drop(columns=['Quantity_Log', 'Price_Log', 'Quantity_Outlier', 'Price_Outlier'])\n"
   ]
  },
  {
   "cell_type": "code",
   "execution_count": 74,
   "id": "022468be",
   "metadata": {},
   "outputs": [
    {
     "data": {
      "text/html": [
       "<div>\n",
       "<style scoped>\n",
       "    .dataframe tbody tr th:only-of-type {\n",
       "        vertical-align: middle;\n",
       "    }\n",
       "\n",
       "    .dataframe tbody tr th {\n",
       "        vertical-align: top;\n",
       "    }\n",
       "\n",
       "    .dataframe thead th {\n",
       "        text-align: right;\n",
       "    }\n",
       "</style>\n",
       "<table border=\"1\" class=\"dataframe\">\n",
       "  <thead>\n",
       "    <tr style=\"text-align: right;\">\n",
       "      <th></th>\n",
       "      <th>BillNo</th>\n",
       "      <th>Itemname</th>\n",
       "      <th>Quantity</th>\n",
       "      <th>Date</th>\n",
       "      <th>Price</th>\n",
       "      <th>CustomerID</th>\n",
       "      <th>Country</th>\n",
       "      <th>TotalPrice</th>\n",
       "      <th>Month</th>\n",
       "      <th>Weekday</th>\n",
       "      <th>Week</th>\n",
       "      <th>Cost</th>\n",
       "      <th>Profit</th>\n",
       "      <th>TotalRevenue</th>\n",
       "      <th>TotalProfit</th>\n",
       "    </tr>\n",
       "  </thead>\n",
       "  <tbody>\n",
       "    <tr>\n",
       "      <th>0</th>\n",
       "      <td>536365</td>\n",
       "      <td>WHITE HANGING HEART T-LIGHT HOLDER</td>\n",
       "      <td>6.0</td>\n",
       "      <td>2010-12-01 08:26:00</td>\n",
       "      <td>2.55</td>\n",
       "      <td>17850.0</td>\n",
       "      <td>United Kingdom</td>\n",
       "      <td>15.30</td>\n",
       "      <td>2010-12</td>\n",
       "      <td>Wednesday</td>\n",
       "      <td>48</td>\n",
       "      <td>1.785</td>\n",
       "      <td>0.765</td>\n",
       "      <td>15.30</td>\n",
       "      <td>4.590</td>\n",
       "    </tr>\n",
       "    <tr>\n",
       "      <th>1</th>\n",
       "      <td>536365</td>\n",
       "      <td>WHITE METAL LANTERN</td>\n",
       "      <td>6.0</td>\n",
       "      <td>2010-12-01 08:26:00</td>\n",
       "      <td>3.39</td>\n",
       "      <td>17850.0</td>\n",
       "      <td>United Kingdom</td>\n",
       "      <td>20.34</td>\n",
       "      <td>2010-12</td>\n",
       "      <td>Wednesday</td>\n",
       "      <td>48</td>\n",
       "      <td>2.373</td>\n",
       "      <td>1.017</td>\n",
       "      <td>20.34</td>\n",
       "      <td>6.102</td>\n",
       "    </tr>\n",
       "    <tr>\n",
       "      <th>2</th>\n",
       "      <td>536365</td>\n",
       "      <td>CREAM CUPID HEARTS COAT HANGER</td>\n",
       "      <td>8.0</td>\n",
       "      <td>2010-12-01 08:26:00</td>\n",
       "      <td>2.75</td>\n",
       "      <td>17850.0</td>\n",
       "      <td>United Kingdom</td>\n",
       "      <td>22.00</td>\n",
       "      <td>2010-12</td>\n",
       "      <td>Wednesday</td>\n",
       "      <td>48</td>\n",
       "      <td>1.925</td>\n",
       "      <td>0.825</td>\n",
       "      <td>22.00</td>\n",
       "      <td>6.600</td>\n",
       "    </tr>\n",
       "    <tr>\n",
       "      <th>3</th>\n",
       "      <td>536365</td>\n",
       "      <td>KNITTED UNION FLAG HOT WATER BOTTLE</td>\n",
       "      <td>6.0</td>\n",
       "      <td>2010-12-01 08:26:00</td>\n",
       "      <td>3.39</td>\n",
       "      <td>17850.0</td>\n",
       "      <td>United Kingdom</td>\n",
       "      <td>20.34</td>\n",
       "      <td>2010-12</td>\n",
       "      <td>Wednesday</td>\n",
       "      <td>48</td>\n",
       "      <td>2.373</td>\n",
       "      <td>1.017</td>\n",
       "      <td>20.34</td>\n",
       "      <td>6.102</td>\n",
       "    </tr>\n",
       "    <tr>\n",
       "      <th>4</th>\n",
       "      <td>536365</td>\n",
       "      <td>RED WOOLLY HOTTIE WHITE HEART.</td>\n",
       "      <td>6.0</td>\n",
       "      <td>2010-12-01 08:26:00</td>\n",
       "      <td>3.39</td>\n",
       "      <td>17850.0</td>\n",
       "      <td>United Kingdom</td>\n",
       "      <td>20.34</td>\n",
       "      <td>2010-12</td>\n",
       "      <td>Wednesday</td>\n",
       "      <td>48</td>\n",
       "      <td>2.373</td>\n",
       "      <td>1.017</td>\n",
       "      <td>20.34</td>\n",
       "      <td>6.102</td>\n",
       "    </tr>\n",
       "  </tbody>\n",
       "</table>\n",
       "</div>"
      ],
      "text/plain": [
       "   BillNo                             Itemname  Quantity                Date  \\\n",
       "0  536365   WHITE HANGING HEART T-LIGHT HOLDER       6.0 2010-12-01 08:26:00   \n",
       "1  536365                  WHITE METAL LANTERN       6.0 2010-12-01 08:26:00   \n",
       "2  536365       CREAM CUPID HEARTS COAT HANGER       8.0 2010-12-01 08:26:00   \n",
       "3  536365  KNITTED UNION FLAG HOT WATER BOTTLE       6.0 2010-12-01 08:26:00   \n",
       "4  536365       RED WOOLLY HOTTIE WHITE HEART.       6.0 2010-12-01 08:26:00   \n",
       "\n",
       "   Price CustomerID         Country  TotalPrice    Month    Weekday  Week  \\\n",
       "0   2.55    17850.0  United Kingdom       15.30  2010-12  Wednesday    48   \n",
       "1   3.39    17850.0  United Kingdom       20.34  2010-12  Wednesday    48   \n",
       "2   2.75    17850.0  United Kingdom       22.00  2010-12  Wednesday    48   \n",
       "3   3.39    17850.0  United Kingdom       20.34  2010-12  Wednesday    48   \n",
       "4   3.39    17850.0  United Kingdom       20.34  2010-12  Wednesday    48   \n",
       "\n",
       "    Cost  Profit  TotalRevenue  TotalProfit  \n",
       "0  1.785   0.765         15.30        4.590  \n",
       "1  2.373   1.017         20.34        6.102  \n",
       "2  1.925   0.825         22.00        6.600  \n",
       "3  2.373   1.017         20.34        6.102  \n",
       "4  2.373   1.017         20.34        6.102  "
      ]
     },
     "execution_count": 74,
     "metadata": {},
     "output_type": "execute_result"
    }
   ],
   "source": [
    "df.head(5)"
   ]
  },
  {
   "cell_type": "code",
   "execution_count": 75,
   "id": "191ecffd",
   "metadata": {},
   "outputs": [
    {
     "name": "stdout",
     "output_type": "stream",
     "text": [
      "Requirement already satisfied: openpyxl in c:\\users\\mokti\\anaconda3\\lib\\site-packages (3.0.10)Note: you may need to restart the kernel to use updated packages.\n",
      "\n",
      "Requirement already satisfied: et_xmlfile in c:\\users\\mokti\\anaconda3\\lib\\site-packages (from openpyxl) (1.1.0)\n"
     ]
    }
   ],
   "source": [
    "pip install openpyxl"
   ]
  },
  {
   "cell_type": "code",
   "execution_count": 76,
   "id": "176da3fa",
   "metadata": {},
   "outputs": [],
   "source": [
    "cleaned_df = df.copy() "
   ]
  },
  {
   "cell_type": "code",
   "execution_count": 87,
   "id": "d61cea8d",
   "metadata": {},
   "outputs": [],
   "source": [
    "cleaned_df.dropna(inplace=True) \n"
   ]
  },
  {
   "cell_type": "code",
   "execution_count": 89,
   "id": "92e77185",
   "metadata": {},
   "outputs": [
    {
     "name": "stdout",
     "output_type": "stream",
     "text": [
      "Dataset exported successfully!\n"
     ]
    }
   ],
   "source": [
    "cleaned_df.to_excel(\"cleaned_dataset.xlsx\", index=False, sheet_name=\"Cleaned Data\")\n",
    "print(\"Dataset exported successfully!\")\n"
   ]
  },
  {
   "cell_type": "code",
   "execution_count": 79,
   "id": "7b5852da",
   "metadata": {},
   "outputs": [
    {
     "name": "stdout",
     "output_type": "stream",
     "text": [
      "Peak Week: year               2011.0\n",
      "week                 46.0\n",
      "TotalRevenue    262750.82\n",
      "Name: 49, dtype: Float64\n",
      "Lowest Week: year              2010.0\n",
      "week                51.0\n",
      "TotalRevenue    60043.53\n",
      "Name: 3, dtype: Float64\n"
     ]
    }
   ],
   "source": [
    "import pandas as pd\n",
    "\n",
    "# Assuming df is already loaded with the dataset\n",
    "# Ensure the date column is in datetime format\n",
    "df['Date'] = pd.to_datetime(df['Date'])\n",
    "\n",
    "# Extract the week and year for grouping\n",
    "df['week'] = df['Date'].dt.isocalendar().week\n",
    "df['year'] = df['Date'].dt.year\n",
    "\n",
    "# Group by year and week, summing the revenue\n",
    "weekly_revenue = df.groupby(['year', 'week'])['TotalRevenue'].sum().reset_index()\n",
    "\n",
    "# Find the peak and lowest revenue weeks\n",
    "peak_week = weekly_revenue.loc[weekly_revenue['TotalRevenue'].idxmax()]\n",
    "lowest_week = weekly_revenue.loc[weekly_revenue['TotalRevenue'].idxmin()]\n",
    "\n",
    "# Display the results\n",
    "print(\"Peak Week:\", peak_week)\n",
    "print(\"Lowest Week:\", lowest_week)\n"
   ]
  },
  {
   "cell_type": "code",
   "execution_count": null,
   "id": "0e27a11e",
   "metadata": {},
   "outputs": [],
   "source": []
  }
 ],
 "metadata": {
  "kernelspec": {
   "display_name": "Python 3 (ipykernel)",
   "language": "python",
   "name": "python3"
  },
  "language_info": {
   "codemirror_mode": {
    "name": "ipython",
    "version": 3
   },
   "file_extension": ".py",
   "mimetype": "text/x-python",
   "name": "python",
   "nbconvert_exporter": "python",
   "pygments_lexer": "ipython3",
   "version": "3.12.7"
  }
 },
 "nbformat": 4,
 "nbformat_minor": 5
}
